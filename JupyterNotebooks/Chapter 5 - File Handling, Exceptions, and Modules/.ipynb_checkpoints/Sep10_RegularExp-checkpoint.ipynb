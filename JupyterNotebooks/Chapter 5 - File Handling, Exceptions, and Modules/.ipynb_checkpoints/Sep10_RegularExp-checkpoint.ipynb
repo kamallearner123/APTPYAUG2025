{
 "cells": [
  {
   "cell_type": "code",
   "execution_count": 2,
   "id": "0e20ad36-85fd-48c0-b837-22e4936f0f57",
   "metadata": {},
   "outputs": [
    {
     "name": "stdout",
     "output_type": "stream",
     "text": [
      "['1234567890', '4567891230', '1234567890']\n"
     ]
    }
   ],
   "source": [
    "data = '''\n",
    "kamal kamal@123.com +91  1234567890 123154648978978979878979 \n",
    "david d123@gmail.com +91     4567891230 1111 +91  1234567890\n",
    "\n",
    "I am living @bangalore 4567891230\n",
    "abc@123.out\n",
    "\n",
    "'''\n",
    "\n",
    "\n",
    "#1) Import re\n",
    "import re\n",
    "\n",
    "#2) Write down pattern\n",
    "pattern = r\"\\+91 +(\\d{10})\" # r -> Raw text \n",
    "\n",
    "#3) Call findall function from \"re\"\n",
    "parsed = re.findall(pattern, data)\n",
    "print(parsed)\n",
    "\n"
   ]
  },
  {
   "cell_type": "code",
   "execution_count": 5,
   "id": "66066822-476b-43c4-8fb4-71ae4f992f16",
   "metadata": {},
   "outputs": [
    {
     "name": "stdout",
     "output_type": "stream",
     "text": [
      "['kamal@123.com', 'd123@gmail.com', 'abc@123.out']\n"
     ]
    }
   ],
   "source": [
    "data = '''\n",
    "kamal kamal@123.com +91  1234567890 123154648978978979878979 \n",
    "david d123@gmail.com +91     4567891230 1111 +91  1234567890\n",
    "\n",
    "I am living @bangalore 4567891230\n",
    "abc@123.out\n",
    "\n",
    "'''\n",
    "\n",
    "\n",
    "#1) Import re\n",
    "import re\n",
    "\n",
    "#2) Write down pattern\n",
    "pattern = r\"(\\w+@\\w+\\.[comout]+)\" # r -> Raw text \n",
    "\n",
    "#3) Call findall function from \"re\"\n",
    "parsed = re.findall(pattern, data)\n",
    "print(parsed)"
   ]
  },
  {
   "cell_type": "code",
   "execution_count": 13,
   "id": "111fe6da-5074-41ca-836b-46b1b4ef3dbd",
   "metadata": {},
   "outputs": [
    {
     "name": "stdout",
     "output_type": "stream",
     "text": [
      "[('2', 'a'), ('20', 'b'), ('30', 'c'), ('1', 'z'), ('70', 'd')]\n",
      "aabbbbbbbbbbbbbbbbbbbbcccccccccccccccccccccccccccccczdddddddddddddddddddddddddddddddddddddddddddddddddddddddddddddddddddddd\n"
     ]
    }
   ],
   "source": [
    "data = '''2a 20b 30c   1z     70d'''\n",
    "\n",
    "\n",
    "#1) Import re\n",
    "import re\n",
    "\n",
    "#2) Write down pattern\n",
    "pattern = r\"(\\d+)([a-zA-z]+)\" # r -> Raw text \n",
    "\n",
    "#3) Call findall function from \"re\"\n",
    "parsed = re.findall(pattern, data)\n",
    "print(parsed)\n",
    "\n",
    "result = \"\"\n",
    "for element in parsed:\n",
    "    result +=element[1]*int(element[0])\n",
    "print(result)"
   ]
  },
  {
   "cell_type": "code",
   "execution_count": 11,
   "id": "caf6c8e4-0598-48a2-871f-ad17f6491895",
   "metadata": {},
   "outputs": [
    {
     "data": {
      "text/plain": [
       "'aaaaaaaaaa'"
      ]
     },
     "execution_count": 11,
     "metadata": {},
     "output_type": "execute_result"
    }
   ],
   "source": [
    "\"a\"*10"
   ]
  },
  {
   "cell_type": "code",
   "execution_count": 21,
   "id": "640a9330-ef05-4244-99ee-f827f1f13cfb",
   "metadata": {},
   "outputs": [
    {
     "name": "stdout",
     "output_type": "stream",
     "text": [
      "<re.Match object; span=(22, 32), match='9739858111'>\n"
     ]
    }
   ],
   "source": [
    "import re\n",
    "String = '''Mr Kamal Kumar Mukiri 9739858111 kamalbec2004@gmail.com'''\n",
    "matcher = re.compile(r'(9739858111)')\n",
    "matches = matcher.finditer(String)\n",
    "for match in matches:\n",
    "    print(match)"
   ]
  },
  {
   "cell_type": "code",
   "execution_count": null,
   "id": "fad344e3-1e64-4fef-bce5-a5e87baf9dbb",
   "metadata": {},
   "outputs": [],
   "source": []
  }
 ],
 "metadata": {
  "kernelspec": {
   "display_name": "Python3 (DeepCode)",
   "language": "python",
   "name": "deepcode"
  },
  "language_info": {
   "codemirror_mode": {
    "name": "ipython",
    "version": 3
   },
   "file_extension": ".py",
   "mimetype": "text/x-python",
   "name": "python",
   "nbconvert_exporter": "python",
   "pygments_lexer": "ipython3",
   "version": "3.13.5"
  }
 },
 "nbformat": 4,
 "nbformat_minor": 5
}
