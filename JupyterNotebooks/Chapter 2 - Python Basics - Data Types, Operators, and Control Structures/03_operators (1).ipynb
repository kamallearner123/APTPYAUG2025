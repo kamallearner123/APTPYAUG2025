{
 "cells": [
  {
   "cell_type": "markdown",
   "id": "22f38b3a",
   "metadata": {},
   "source": [
    "# Operators: Arithmetic, Comparison, Logical, Assignment\n",
    "*Generated: 2025-08-26 12:23*"
   ]
  },
  {
   "cell_type": "markdown",
   "id": "27dd72f8",
   "metadata": {},
   "source": [
    "> This notebook includes **Introduction (no code)**, **Syntax**, **Examples with code**, and **Twisted Questions**."
   ]
  },
  {
   "cell_type": "markdown",
   "id": "b89a468d",
   "metadata": {},
   "source": [
    "## Introduction (No Code)\n",
    "**Operators** combine or compare values.\n",
    "\n",
    "**Groups**\n",
    "- **Arithmetic**: +, -, *, /, // (floor), % (mod), ** (power)\n",
    "- **Comparison**: ==, !=, <, <=, >, >= → return **bool**\n",
    "- **Logical**: and, or, not → combine booleans\n",
    "- **Assignment**: =, +=, -=, *=, etc.\n",
    "\n",
    "Order of operations matters; parentheses improve clarity."
   ]
  },
  {
   "cell_type": "markdown",
   "id": "198ba67f",
   "metadata": {},
   "source": [
    "## Syntax\n",
    "- Arithmetic: `a + b`, `a - b`, `a * b`, `a / b`, `a // b`, `a % b`, `a ** b`\n",
    "- Comparison: `x == y`, `x != y`, `x < y`, `x <= y`, `x > y`, `x >= y`\n",
    "- Logical: `A and B`, `A or B`, `not A`\n",
    "- Assignment: `x = 0`; compound: `x += 1`, `x *= 2`"
   ]
  },
  {
   "cell_type": "markdown",
   "id": "256c38c3",
   "metadata": {},
   "source": [
    "## Examples with Code\n",
    "Run the cells below to see the concepts in action."
   ]
  },
  {
   "cell_type": "markdown",
   "id": "419d535c",
   "metadata": {},
   "source": [
    "**Example:** Arithmetic & floor/percent"
   ]
  },
  {
   "cell_type": "code",
   "execution_count": null,
   "id": "9f8b54da",
   "metadata": {},
   "outputs": [],
   "source": [
    "a, b = 17, 5\n",
    "print(\"sum:\", a + b)\n",
    "print(\"floor division:\", a // b)\n",
    "print(\"remainder:\", a % b)\n",
    "print(\"power:\", b ** 3)"
   ]
  },
  {
   "cell_type": "markdown",
   "id": "0268b73c",
   "metadata": {},
   "source": [
    "**Example:** Comparison and logical combo"
   ]
  },
  {
   "cell_type": "code",
   "execution_count": null,
   "id": "feee6177",
   "metadata": {},
   "outputs": [],
   "source": [
    "age = 20\n",
    "has_id = True\n",
    "is_adult = age >= 18\n",
    "eligible = (is_adult and has_id) or False\n",
    "print(\"is_adult:\", is_adult, \"eligible:\", eligible)"
   ]
  },
  {
   "cell_type": "markdown",
   "id": "caa873d4",
   "metadata": {},
   "source": [
    "**Example:** Short-circuit behavior"
   ]
  },
  {
   "cell_type": "code",
   "execution_count": null,
   "id": "b5a77b8c",
   "metadata": {},
   "outputs": [],
   "source": [
    "def side_effect(label):\n",
    "    print(f'evaluated {label}')\n",
    "    return True\n",
    "\n",
    "print('--- and short-circuit ---')\n",
    "print(False and side_effect('A'))  # right side not evaluated\n",
    "\n",
    "print('--- or short-circuit ---')\n",
    "print(True or side_effect('B'))    # right side not evaluated"
   ]
  },
  {
   "cell_type": "markdown",
   "id": "d10055a1",
   "metadata": {},
   "source": [
    "## Twisted Questions\n",
    "1. Show a case where `(A or B) and C` differs from `A or (B and C)`—why parentheses matter.\n",
    "2. How can compound assignment (`+=`) improve intent—or hide logic if overused?\n",
    "3. Chained comparisons (e.g., `a < b < c`) are readable; what misunderstandings can happen?\n",
    "4. What bugs occur if you rely on **side effects** in expressions that may be skipped by short-circuiting?\n",
    "5. When mixing ints and floats, how does operator choice (`/` vs `//`) affect results and downstream logic?"
   ]
  }
 ],
 "metadata": {},
 "nbformat": 4,
 "nbformat_minor": 5
}