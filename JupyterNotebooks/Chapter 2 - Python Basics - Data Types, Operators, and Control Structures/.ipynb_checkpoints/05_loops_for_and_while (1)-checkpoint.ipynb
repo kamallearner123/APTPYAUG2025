{
 "cells": [
  {
   "cell_type": "markdown",
   "id": "1b0e346f",
   "metadata": {},
   "source": [
    "# Loops: for and while\n",
    "*Generated: 2025-08-26 12:23*"
   ]
  },
  {
   "cell_type": "markdown",
   "id": "39b568b2",
   "metadata": {},
   "source": [
    "> This notebook includes **Introduction (no code)**, **Syntax**, **Examples with code**, and **Twisted Questions**."
   ]
  },
  {
   "cell_type": "markdown",
   "id": "664e51c2",
   "metadata": {},
   "source": [
    "## Introduction (No Code)\n",
    "**Loops** repeat actions:\n",
    "- **for**: iterate over a **sequence/range**\n",
    "- **while**: repeat while a **condition** is True\n",
    "\n",
    "Choose the loop that matches the problem. Ensure progress to avoid infinite loops. Break/continue control flow carefully."
   ]
  },
  {
   "cell_type": "markdown",
   "id": "4f85b8b9",
   "metadata": {},
   "source": [
    "## Syntax\n",
    "- For loop:\n",
    "```python\n",
    "for item in iterable:\n",
    "    # use item\n",
    "```\n",
    "- While loop:\n",
    "```python\n",
    "while condition:\n",
    "    # work that changes state toward ending the loop\n",
    "```"
   ]
  },
  {
   "cell_type": "markdown",
   "id": "af1fc801",
   "metadata": {},
   "source": [
    "## Examples with Code\n",
    "Run the cells below to see the concepts in action."
   ]
  },
  {
   "cell_type": "markdown",
   "id": "4cbf2ee0",
   "metadata": {},
   "source": [
    "**Example:** for over a list and accumulation"
   ]
  },
  {
   "cell_type": "code",
   "execution_count": null,
   "id": "65be1cba",
   "metadata": {},
   "outputs": [],
   "source": [
    "scores = [10, 20, 30]\n",
    "total = 0\n",
    "for s in scores:\n",
    "    total += s\n",
    "print(\"Total:\", total, \"Average:\", total/len(scores))"
   ]
  },
  {
   "cell_type": "markdown",
   "id": "3bba0f52",
   "metadata": {},
   "source": [
    "**Example:** while with termination condition"
   ]
  },
  {
   "cell_type": "code",
   "execution_count": null,
   "id": "202a961f",
   "metadata": {},
   "outputs": [],
   "source": [
    "count = 3\n",
    "while count > 0:\n",
    "    print(\"Countdown:\", count)\n",
    "    count -= 1\n",
    "print(\"Lift off!\")"
   ]
  },
  {
   "cell_type": "markdown",
   "id": "b2fe464b",
   "metadata": {},
   "source": [
    "**Example:** Early exit and continue"
   ]
  },
  {
   "cell_type": "code",
   "execution_count": null,
   "id": "b51e1fa5",
   "metadata": {},
   "outputs": [],
   "source": [
    "numbers = [1, 2, 3, 4, 5, 6]\n",
    "evens = []\n",
    "for n in numbers:\n",
    "    if n % 2 != 0:\n",
    "        continue            # skip odds\n",
    "    evens.append(n)\n",
    "    if len(evens) == 2:\n",
    "        break               # stop after first two evens\n",
    "print(\"Collected evens:\", evens)"
   ]
  },
  {
   "cell_type": "markdown",
   "id": "e04e0cae",
   "metadata": {},
   "source": [
    "## Twisted Questions\n",
    "1. Merging two lists of **unequal length**—which loop style is clearer and why?\n",
    "2. How can a `while` loop become **infinite** even if the condition looks right?\n",
    "3. If you maintain a running total, what if the initial value is wrong (e.g., `None` vs `0`)?\n",
    "4. When should you use `break`/`continue`—and when does it hurt readability?\n",
    "5. How do you safely **modify a list** while iterating over it to avoid skipping elements?"
   ]
  }
 ],
 "metadata": {},
 "nbformat": 4,
 "nbformat_minor": 5
}