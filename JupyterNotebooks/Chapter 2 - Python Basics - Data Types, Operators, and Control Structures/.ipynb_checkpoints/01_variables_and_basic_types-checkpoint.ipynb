{
 "cells": [
  {
   "cell_type": "markdown",
   "id": "044be458",
   "metadata": {},
   "source": [
    "# Variables and Basic Data Types\n",
    "*Generated: 2025-08-26 12:23*"
   ]
  },
  {
   "cell_type": "markdown",
   "id": "07130192",
   "metadata": {},
   "source": [
    "> This notebook includes **Introduction (no code)**, **Syntax**, **Examples with code**, and **Twisted Questions**."
   ]
  },
  {
   "cell_type": "markdown",
   "id": "b892edc4",
   "metadata": {},
   "source": [
    "## Introduction (No Code)\n",
    "Variables are **names bound to values**. Basic data types define the **kind of value** and valid operations.\n",
    "\n",
    "**Core types**\n",
    "- **int**: whole numbers (e.g., 0, 7, -12)\n",
    "- **float**: fractional numbers (e.g., 3.14, -0.001)\n",
    "- **str**: text (e.g., \"hello\")\n",
    "- **bool**: True / False\n",
    "\n",
    "**Key ideas**\n",
    "- Python variables are labels pointing to objects in memory.\n",
    "- Types influence behavior (e.g., int vs float division).\n",
    "- Strings are sequences; booleans often come from comparisons."
   ]
  },
  {
   "cell_type": "markdown",
   "id": "50596e96",
   "metadata": {},
   "source": [
    "## Syntax\n",
    "- Variable assignment: `name = value`\n",
    "- Type checking: `type(x)` (for learning/inspection)\n",
    "- Common literals:\n",
    "  - Integers: `0`, `-5`, `42`\n",
    "  - Floats: `3.0`, `2.5e3`\n",
    "  - Strings: `\"text\"` or `'text'`\n",
    "  - Booleans: `True`, `False`"
   ]
  },
  {
   "cell_type": "markdown",
   "id": "4024524e",
   "metadata": {},
   "source": [
    "## Examples with Code\n",
    "Run the cells below to see the concepts in action."
   ]
  },
  {
   "cell_type": "markdown",
   "id": "bb2c8c80",
   "metadata": {},
   "source": [
    "**Example:** Creating variables of different types"
   ]
  },
  {
   "cell_type": "code",
   "execution_count": null,
   "id": "fe9af251",
   "metadata": {},
   "outputs": [],
   "source": [
    "students = 42              # int\n",
    "temperature = 27.5          # float\n",
    "greeting = \"Hello, world!\"  # str\n",
    "is_open = True              # bool\n",
    "\n",
    "print(students, temperature, greeting, is_open)\n",
    "print(type(students), type(temperature), type(greeting), type(is_open))"
   ]
  },
  {
   "cell_type": "markdown",
   "id": "8f4c446a",
   "metadata": {},
   "source": [
    "**Example:** Converting between types"
   ]
  },
  {
   "cell_type": "code",
   "execution_count": null,
   "id": "5914aaae",
   "metadata": {},
   "outputs": [],
   "source": [
    "x = \"123\"\n",
    "y = int(x)       # string -> int\n",
    "z = float(y)     # int -> float\n",
    "s = str(z)       # float -> string\n",
    "print(x, y, z, s)"
   ]
  },
  {
   "cell_type": "markdown",
   "id": "1eec1c98",
   "metadata": {},
   "source": [
    "**Example:** String operations and boolean logic"
   ]
  },
  {
   "cell_type": "code",
   "execution_count": null,
   "id": "08df0c8c",
   "metadata": {},
   "outputs": [],
   "source": [
    "name = \"Asha\"\n",
    "message = \"Hello, \" + name + \"!\"      # concatenation\n",
    "repeat = name * 3                      # repetition\n",
    "contains = \"sh\" in name                # membership -> bool\n",
    "print(message, repeat, contains)"
   ]
  },
  {
   "cell_type": "markdown",
   "id": "1318c34f",
   "metadata": {},
   "source": [
    "## Twisted Questions\n",
    "1. Why is `098` invalid as an **integer literal** but valid inside a **string** like `\"098\"`?\n",
    "2. When adding an `int` to a `str`, what’s the safest approach—convert the number or the text? Why?\n",
    "3. Why can representing money as `float` cause **rounding surprises**? What is a safer alternative?\n",
    "4. Two variables point to the same list; one modifies it. Does the other change too? Explain mutability vs immutability.\n",
    "5. What happens if you multiply a string by a negative integer?"
   ]
  }
 ],
 "metadata": {},
 "nbformat": 4,
 "nbformat_minor": 5
}