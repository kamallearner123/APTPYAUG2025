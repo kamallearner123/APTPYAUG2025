{
 "cells": [
  {
   "cell_type": "markdown",
   "id": "1b0e346f",
   "metadata": {},
   "source": [
    "# Loops: for and while\n",
    "*Generated: 2025-08-26 12:23*"
   ]
  },
  {
   "cell_type": "markdown",
   "id": "39b568b2",
   "metadata": {},
   "source": [
    "> This notebook includes **Introduction (no code)**, **Syntax**, **Examples with code**, and **Twisted Questions**."
   ]
  },
  {
   "cell_type": "markdown",
   "id": "664e51c2",
   "metadata": {},
   "source": [
    "## Introduction (No Code)\n",
    "**Loops** repeat actions:\n",
    "- **for**: iterate over a **sequence/range**\n",
    "- **while**: repeat while a **condition** is True\n",
    "\n",
    "Choose the loop that matches the problem. Ensure progress to avoid infinite loops. Break/continue control flow carefully."
   ]
  },
  {
   "cell_type": "markdown",
   "id": "4f85b8b9",
   "metadata": {},
   "source": [
    "## Syntax\n",
    "- For loop:\n",
    "```python\n",
    "for item in iterable:\n",
    "    # use item\n",
    "```\n",
    "- While loop:\n",
    "```python\n",
    "while condition:\n",
    "    # work that changes state toward ending the loop\n",
    "```"
   ]
  },
  {
   "cell_type": "markdown",
   "id": "af1fc801",
   "metadata": {},
   "source": [
    "## Examples with Code\n",
    "Run the cells below to see the concepts in action."
   ]
  },
  {
   "cell_type": "markdown",
   "id": "4cbf2ee0",
   "metadata": {},
   "source": [
    "**Example:** for over a list and accumulation"
   ]
  },
  {
   "cell_type": "code",
   "execution_count": null,
   "id": "65be1cba",
   "metadata": {},
   "outputs": [],
   "source": [
    "scores = [10, 20, 30]\n",
    "total = 0\n",
    "for s in scores:\n",
    "    total += s\n",
    "print(\"Total:\", total, \"Average:\", total/len(scores))"
   ]
  },
  {
   "cell_type": "markdown",
   "id": "3bba0f52",
   "metadata": {},
   "source": [
    "**Example:** while with termination condition"
   ]
  },
  {
   "cell_type": "code",
   "execution_count": 2,
   "id": "202a961f",
   "metadata": {},
   "outputs": [
    {
     "name": "stdout",
     "output_type": "stream",
     "text": [
      "Countdown: 3\n",
      "Countdown: 2\n",
      "Countdown: 1\n",
      "Lift off!\n"
     ]
    }
   ],
   "source": [
    "count = 3\n",
    "while count > 0:\n",
    "    print(\"Countdown:\", count)\n",
    "    count -= 1\n",
    "print(\"Lift off!\")"
   ]
  },
  {
   "cell_type": "markdown",
   "id": "b2fe464b",
   "metadata": {},
   "source": [
    "**Example:** Early exit and continue"
   ]
  },
  {
   "cell_type": "code",
   "execution_count": null,
   "id": "b51e1fa5",
   "metadata": {},
   "outputs": [],
   "source": [
    "numbers = [1, 2, 3, 4, 5, 6]\n",
    "evens = []\n",
    "for n in numbers:\n",
    "    if n % 2 != 0:\n",
    "        continue            # skip odds\n",
    "    evens.append(n)\n",
    "    if len(evens) == 2:\n",
    "        break               # stop after first two evens\n",
    "print(\"Collected evens:\", evens)"
   ]
  },
  {
   "cell_type": "markdown",
   "id": "e04e0cae",
   "metadata": {},
   "source": [
    "## Twisted Questions\n",
    "1. Merging two lists of **unequal length**—which loop style is clearer and why?\n",
    "2. How can a `while` loop become **infinite** even if the condition looks right?\n",
    "3. If you maintain a running total, what if the initial value is wrong (e.g., `None` vs `0`)?\n",
    "4. When should you use `break`/`continue`—and when does it hurt readability?\n",
    "5. How do you safely **modify a list** while iterating over it to avoid skipping elements?"
   ]
  },
  {
   "cell_type": "code",
   "execution_count": 5,
   "id": "23023985-f89e-4ea8-9393-8b9152430e75",
   "metadata": {},
   "outputs": [],
   "source": [
    "num = 0\n",
    "for i in range(num): # i = 0, 1,2,3,4,.....99\n",
    "    print(i)\n",
    "    "
   ]
  },
  {
   "cell_type": "code",
   "execution_count": 4,
   "id": "8aadefec-89ab-4af0-8a8c-a031e0888208",
   "metadata": {},
   "outputs": [],
   "source": [
    "num = 0\n",
    "while num != 0: # num = 10,9,8,\n",
    "    print(num)\n",
    "    num = num - 1"
   ]
  },
  {
   "cell_type": "code",
   "execution_count": null,
   "id": "7dd376b8-b75e-4521-adaa-3dd6985be707",
   "metadata": {},
   "outputs": [],
<<<<<<< Updated upstream
   "source": [
    "# Find the given number is prime or not\n"
   ]
  },
  {
   "cell_type": "code",
   "execution_count": 3,
   "id": "880a1ec4-bd8d-4ec0-be35-1bdcebea76fc",
   "metadata": {},
   "outputs": [
    {
     "name": "stdout",
     "output_type": "stream",
     "text": [
      "Sum of all prices = 225\n"
     ]
    }
   ],
   "source": [
    "# Sum the given numbers in a list\n",
    "prices = [15, 20, 100, 80, 10] # List of prices\n",
    "\n",
    "# 1) Initialization\n",
    "result = 0\n",
    "\n",
    "\n",
    "# Write loop to cum all the numbers\n",
    "for price in prices: # Self break\n",
    "    # 2) Operation\n",
    "    result += price\n",
    "    # 3) Break: Not needed\n",
    "\n",
    "print(\"Sum of all prices =\", result)\n"
   ]
  },
  {
   "cell_type": "code",
   "execution_count": null,
   "id": "afec2a14-4fb6-49b0-9940-fc92922b3f6d",
   "metadata": {},
   "outputs": [],
   "source": [
    "# Multiply the given numbers in a list\n",
    "prices = [15, 20, 100, 80, 10] # List of prices\n",
    "\n",
    "# 1) Initialization\n",
    "result = 1\n",
    "\n",
    "\n",
    "# Write loop to cum all the numbers\n",
    "for price in prices: # Self break\n",
    "    # 2) Operation\n",
    "    result *= price\n",
    "    # 3) Break: Not needed\n",
    "\n",
    "print(\"Sum of all prices =\", result)"
   ]
  },
  {
   "cell_type": "code",
   "execution_count": 5,
   "id": "499a1c9d-bbd1-4012-ab0f-ad4b9349caad",
   "metadata": {},
   "outputs": [
    {
     "name": "stdout",
     "output_type": "stream",
     "text": [
      "Found!!!!\n"
     ]
    }
   ],
   "source": [
    "# Find roll number in the given list: 45\n",
    "\n",
    "roll_nums = [15, 20, 45, 100, 80, 10] # List of prices\n",
    "\n",
    "# 1) Initialization: Not required\n",
    "\n",
    "for roll_num in roll_nums:\n",
    "    # 2) Operation: Not required\n",
    "    # 3) Break\n",
    "    if roll_num == 45:\n",
    "        print(\"Found!!!!\")\n",
    "        break"
   ]
  },
  {
   "cell_type": "code",
   "execution_count": 7,
   "id": "ab0148d0-2914-4939-b021-ef88eb4899cd",
   "metadata": {},
   "outputs": [
    {
     "name": "stdout",
     "output_type": "stream",
     "text": [
      "1\n",
      "3\n",
      "5\n",
      "7\n",
      "9\n"
     ]
    }
   ],
   "source": [
    "# Print All odd numbers from 0 to 100\n",
    "# 1) Initialization: Not required\n",
    "for i in range(10):\n",
    "    # 2) Operation\n",
    "    if i%2 != 0: # i = 10//2 \n",
    "        print(i)\n",
    "    # 3) Break: Not required\n",
    "\n"
   ]
  },
  {
   "cell_type": "code",
   "execution_count": 10,
   "id": "14aa7e75-9949-4b24-b433-f14a89b9889b",
   "metadata": {},
   "outputs": [
    {
     "name": "stdout",
     "output_type": "stream",
     "text": [
      "It is prime\n"
     ]
    }
   ],
   "source": [
    "# Print the giben number is prime or not\n",
    "num = 19\n",
    "\n",
    "#1) NA\n",
    "\n",
    "# 2,3,4,5,6,7,8,9,....18\n",
    "for i in range(2, num): # 0,1, 2,3...17\n",
    "    #2) Operation: NA\n",
    "    #3) Break\n",
    "    if num%i == 0:\n",
    "        print(\"Not a prime\")\n",
    "        break\n",
    "else: # When there is no break execute in above loop\n",
    "    print(\"It is prime\")"
   ]
  },
  {
   "cell_type": "code",
   "execution_count": null,
   "id": "3c2e7aa4-4869-4df2-adb6-c51f8cb3ec24",
   "metadata": {},
   "outputs": [],
=======
>>>>>>> Stashed changes
   "source": []
  }
 ],
 "metadata": {
  "kernelspec": {
   "display_name": "Python 3 (ipykernel)",
   "language": "python",
   "name": "python3"
  },
  "language_info": {
   "codemirror_mode": {
    "name": "ipython",
    "version": 3
   },
   "file_extension": ".py",
   "mimetype": "text/x-python",
   "name": "python",
   "nbconvert_exporter": "python",
   "pygments_lexer": "ipython3",
   "version": "3.12.7"
  }
 },
 "nbformat": 4,
 "nbformat_minor": 5
}
