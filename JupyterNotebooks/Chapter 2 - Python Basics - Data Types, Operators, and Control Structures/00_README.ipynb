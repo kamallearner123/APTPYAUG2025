{
 "cells": [
  {
   "cell_type": "markdown",
   "id": "10764f4e",
   "metadata": {},
   "source": [
    "# Python Basics – With Code Examples\n",
    "*Generated: 2025-08-26 12:23*\n",
    "\n",
    "This set includes **Introduction (no code)**, **Syntax**, **Examples with code**, and **Twisted Questions** for each topic."
   ]
  },
  {
   "cell_type": "markdown",
   "id": "d9152bf7",
   "metadata": {},
   "source": [
    "## Notebooks\n",
    "1. 01_variables_and_basic_types.ipynb  \n",
    "2. 02_input_output_functions.ipynb  \n",
    "3. 03_operators.ipynb  \n",
    "4. 04_control_structures_if_elif_else.ipynb  \n",
    "5. 05_loops_for_and_while.ipynb"
   ]
  }
 ],
 "metadata": {},
 "nbformat": 4,
 "nbformat_minor": 5
}