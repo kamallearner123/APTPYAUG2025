{
 "cells": [
  {
   "cell_type": "markdown",
   "id": "eb89331d-519a-4fcc-a7de-3f23ca43e077",
   "metadata": {},
   "source": [
    "# Basic math ope"
   ]
  },
  {
   "cell_type": "code",
   "execution_count": 2,
   "id": "023c1146-e359-48f3-aae9-ce663d4d74c3",
   "metadata": {},
   "outputs": [
    {
     "name": "stdout",
     "output_type": "stream",
     "text": [
      "Total tax to be paid =  300000.0\n"
     ]
    }
   ],
   "source": [
    "\n",
    "sal = 10_00_000 # 1000000\n",
    "tax_perc = 0.3\n",
    "print(\"Total tax to be paid = \", sal * tax_perc)"
   ]
  },
  {
   "cell_type": "code",
   "execution_count": null,
   "id": "ff2f45e3-698d-4fb8-b18f-950ba7ae06c7",
   "metadata": {},
   "outputs": [],
   "source": []
  },
  {
   "cell_type": "markdown",
   "id": "725aaa89-1358-47eb-b15b-8c7c7ba81468",
   "metadata": {},
   "source": [
    "# Main Heading\n",
    "## Sub heading"
   ]
  },
  {
   "cell_type": "code",
   "execution_count": null,
   "id": "84f7e173-9441-491a-b4a2-a889b6c36d0c",
   "metadata": {},
   "outputs": [],
   "source": []
  }
 ],
 "metadata": {
  "kernelspec": {
   "display_name": "Python3 (DeepCode)",
   "language": "python",
   "name": "deepcode"
  },
  "language_info": {
   "codemirror_mode": {
    "name": "ipython",
    "version": 3
   },
   "file_extension": ".py",
   "mimetype": "text/x-python",
   "name": "python",
   "nbconvert_exporter": "python",
   "pygments_lexer": "ipython3",
   "version": "3.13.5"
  }
 },
 "nbformat": 4,
 "nbformat_minor": 5
}
