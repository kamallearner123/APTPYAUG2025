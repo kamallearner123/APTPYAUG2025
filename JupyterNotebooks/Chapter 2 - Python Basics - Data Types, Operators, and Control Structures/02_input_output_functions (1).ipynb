{
 "cells": [
  {
   "cell_type": "markdown",
   "id": "3e5870ed",
   "metadata": {},
   "source": [
    "# Input and Output (I/O) Functions\n",
    "*Generated: 2025-08-26 12:23*"
   ]
  },
  {
   "cell_type": "markdown",
   "id": "d39c3f4b",
   "metadata": {},
   "source": [
    "> This notebook includes **Introduction (no code)**, **Syntax**, **Examples with code**, and **Twisted Questions**."
   ]
  },
  {
   "cell_type": "markdown",
   "id": "51fc1fd4",
   "metadata": {},
   "source": [
    "## Introduction (No Code)\n",
    "**Input/Output (I/O)** is how programs **receive** and **present** information.\n",
    "- **Input**: user typing, files, sensors, APIs\n",
    "- **Output**: console printing, files, logs\n",
    "\n",
    "Often inputs are **text** and need **conversion**. Good I/O validates and handles errors gracefully."
   ]
  },
  {
   "cell_type": "markdown",
   "id": "da4e8813",
   "metadata": {},
   "source": [
    "## Syntax\n",
    "- Output to console: `print(value1, value2, sep=\" \", end=\"\\n\")`\n",
    "- Read input from user (console): `input(\"Prompt: \")` → returns **str**\n",
    "- Convert to number: `int(text)`, `float(text)`"
   ]
  },
  {
   "cell_type": "markdown",
   "id": "ed0273ec",
   "metadata": {},
   "source": [
    "## Examples with Code\n",
    "Run the cells below to see the concepts in action."
   ]
  },
  {
   "cell_type": "markdown",
   "id": "09f9b577",
   "metadata": {},
   "source": [
    "**Example:** Printing with separators and end"
   ]
  },
  {
   "cell_type": "code",
   "execution_count": null,
   "id": "463cc379",
   "metadata": {},
   "outputs": [],
   "source": [
    "print(\"A\", \"B\", \"C\")                 # defaults: sep=' ', end='\\n'\n",
    "print(\"A\", \"B\", \"C\", sep=\"-\")          # custom separator\n",
    "print(\"line without newline\", end=\"\")  # custom end"
   ]
  },
  {
   "cell_type": "markdown",
   "id": "abfd0b59",
   "metadata": {},
   "source": [
    "**Example:** Reading input and converting types (safe demo with default)"
   ]
  },
  {
   "cell_type": "code",
   "execution_count": null,
   "id": "083e1ac5",
   "metadata": {},
   "outputs": [],
   "source": [
    "# In notebooks, input() pauses for user entry. For demo, we simulate:\n",
    "user_text = \"123\"   # pretend input\n",
    "number = int(user_text)\n",
    "print(\"Converted:\", number, \"Type:\", type(number))"
   ]
  },
  {
   "cell_type": "markdown",
   "id": "c9e30393",
   "metadata": {},
   "source": [
    "**Example:** Formatted output (f-strings)"
   ]
  },
  {
   "cell_type": "code",
   "execution_count": null,
   "id": "0d3f6ea1",
   "metadata": {},
   "outputs": [],
   "source": [
    "name = \"Kamal\"\n",
    "score = 95.25\n",
    "print(f\"Student {name} scored {score:.1f} marks\")"
   ]
  },
  {
   "cell_type": "markdown",
   "id": "8a12ea42",
   "metadata": {},
   "source": [
    "## Twisted Questions\n",
    "1. A user types `\" 1,234 \"`—how should you normalize/validate before number conversion?\n",
    "2. Input is always **text**—what pitfalls when you expect numbers? How to fail gracefully?\n",
    "3. Your output file is empty even though the program finished. Name non-code reasons (permissions, path, buffering).\n",
    "4. Two processes write to the same file—what kind of conflicts can occur and how to prevent?\n",
    "5. When printing logs, when do you prefer **structured formats** (CSV/JSON) over plain text?"
   ]
  }
 ],
 "metadata": {},
 "nbformat": 4,
 "nbformat_minor": 5
}