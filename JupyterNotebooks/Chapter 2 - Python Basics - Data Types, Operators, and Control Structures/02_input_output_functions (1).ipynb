{
 "cells": [
  {
   "cell_type": "markdown",
   "id": "3e5870ed",
   "metadata": {},
   "source": [
    "# Input and Output (I/O) Functions\n",
    "*Generated: 2025-08-26 12:23*"
   ]
  },
  {
   "cell_type": "markdown",
   "id": "d39c3f4b",
   "metadata": {},
   "source": [
    "> This notebook includes **Introduction (no code)**, **Syntax**, **Examples with code**, and **Twisted Questions**."
   ]
  },
  {
   "cell_type": "markdown",
   "id": "51fc1fd4",
   "metadata": {},
   "source": [
    "## Introduction (No Code)\n",
    "**Input/Output (I/O)** is how programs **receive** and **present** information.\n",
    "- **Input**: user typing, files, sensors, APIs\n",
    "- **Output**: console printing, files, logs\n",
    "\n",
    "Often inputs are **text** and need **conversion**. Good I/O validates and handles errors gracefully."
   ]
  },
  {
   "cell_type": "markdown",
   "id": "da4e8813",
   "metadata": {},
   "source": [
    "## Syntax\n",
    "- Output to console: `print(value1, value2, sep=\" \", end=\"\\n\")`\n",
    "- Read input from user (console): `input(\"Prompt: \")` → returns **str**\n",
    "- Convert to number: `int(text)`, `float(text)`"
   ]
  },
  {
   "cell_type": "markdown",
   "id": "ed0273ec",
   "metadata": {},
   "source": [
    "## Examples with Code\n",
    "Run the cells below to see the concepts in action."
   ]
  },
  {
   "cell_type": "markdown",
   "id": "09f9b577",
   "metadata": {},
   "source": [
    "**Example:** Printing with separators and end"
   ]
  },
  {
   "cell_type": "code",
   "execution_count": null,
   "id": "463cc379",
   "metadata": {},
   "outputs": [],
   "source": [
    "print(\"A\", \"B\", \"C\")                 # defaults: sep=' ', end='\\n'\n",
    "print(\"A\", \"B\", \"C\", sep=\"-\")          # custom separator\n",
    "print(\"line without newline\", end=\"\")  # custom end"
   ]
  },
  {
   "cell_type": "markdown",
   "id": "abfd0b59",
   "metadata": {},
   "source": [
    "**Example:** Reading input and converting types (safe demo with default)"
   ]
  },
  {
   "cell_type": "code",
   "execution_count": null,
   "id": "083e1ac5",
   "metadata": {},
   "outputs": [],
   "source": [
    "# In notebooks, input() pauses for user entry. For demo, we simulate:\n",
    "user_text = \"123\"   # pretend input\n",
    "number = int(user_text)\n",
    "print(\"Converted:\", number, \"Type:\", type(number))"
   ]
  },
  {
   "cell_type": "markdown",
   "id": "c9e30393",
   "metadata": {},
   "source": [
    "**Example:** Formatted output (f-strings)"
   ]
  },
  {
   "cell_type": "code",
   "execution_count": null,
   "id": "0d3f6ea1",
   "metadata": {},
   "outputs": [],
   "source": [
    "name = \"Kamal\"\n",
    "score = 95.25\n",
    "print(f\"Student {name} scored {score:.1f} marks\")"
   ]
  },
  {
   "cell_type": "markdown",
   "id": "8a12ea42",
   "metadata": {},
   "source": [
    "## Twisted Questions\n",
    "1. A user types `\" 1,234 \"`—how should you normalize/validate before number conversion?\n",
    "2. Input is always **text**—what pitfalls when you expect numbers? How to fail gracefully?\n",
    "3. Your output file is empty even though the program finished. Name non-code reasons (permissions, path, buffering).\n",
    "4. Two processes write to the same file—what kind of conflicts can occur and how to prevent?\n",
    "5. When printing logs, when do you prefer **structured formats** (CSV/JSON) over plain text?"
   ]
  },
  {
   "cell_type": "code",
   "execution_count": 1,
   "id": "3772c885-fff8-403c-a222-4c5ba0118c1d",
   "metadata": {},
   "outputs": [
    {
     "name": "stdin",
     "output_type": "stream",
     "text": [
      "Enter age 20\n"
     ]
    },
    {
     "name": "stdout",
     "output_type": "stream",
     "text": [
      "Entered age is  20\n"
     ]
    }
   ],
   "source": [
    "age = input(\"Enter age\")\n",
    "print(\"Entered age is \", age)\n"
   ]
  },
  {
   "cell_type": "code",
   "execution_count": 6,
   "id": "84fd44da-1037-486d-996e-ab5a0e47e8b8",
   "metadata": {},
   "outputs": [
    {
     "name": "stdin",
     "output_type": "stream",
     "text": [
      "Enter age 1.2\n"
     ]
    },
    {
     "name": "stdout",
     "output_type": "stream",
     "text": [
      "Please enter proper number!!\n"
     ]
    },
    {
     "ename": "SystemExit",
     "evalue": "1",
     "output_type": "error",
     "traceback": [
      "An exception has occurred, use %tb to see the full traceback.\n",
      "\u001b[0;31mSystemExit\u001b[0m\u001b[0;31m:\u001b[0m 1\n"
     ]
    }
   ],
   "source": [
    "import sys\n",
    "age = input(\"Enter age\")\n",
    "\n",
    "\n",
    "if age.isdigit() == False:\n",
    "    print(\"Please enter proper number!!\")\n",
    "    sys.exit(1)\n",
    "\n",
    "age = int(age) # converting string to integer\n",
    "# no ticket, half, full, senior\n",
    "if age < 5:\n",
    "    print(\"no ticket\")\n",
    "elif age < 10:\n",
    "    print(\"half\")\n",
    "elif age < 60:\n",
    "    print(\"full\")\n",
    "else:\n",
    "    print(\"senior\")"
   ]
  },
  {
   "cell_type": "code",
   "execution_count": 23,
   "id": "9059039b-0eb2-4318-8c77-2d67e1959bc6",
   "metadata": {},
   "outputs": [
    {
     "name": "stdin",
     "output_type": "stream",
     "text": [
      "Enter age 21a\n"
     ]
    },
    {
     "name": "stdout",
     "output_type": "stream",
     "text": [
      "...\n"
     ]
    },
    {
     "ename": "SystemExit",
     "evalue": "-1",
     "output_type": "error",
     "traceback": [
      "An exception has occurred, use %tb to see the full traceback.\n",
      "\u001b[0;31mSystemExit\u001b[0m\u001b[0;31m:\u001b[0m -1\n"
     ]
    },
    {
     "name": "stderr",
     "output_type": "stream",
     "text": [
      "/opt/anaconda3/lib/python3.12/site-packages/IPython/core/interactiveshell.py:3585: UserWarning: To exit: use 'exit', 'quit', or Ctrl-D.\n",
      "  warn(\"To exit: use 'exit', 'quit', or Ctrl-D.\", stacklevel=1)\n"
     ]
    }
   ],
   "source": [
    "import sys\n",
    "age = input(\"Enter age\")\n",
    "\n",
    "try:\n",
    "    age = int(age) # converting string to integer\n",
    "except:\n",
    "    try: \n",
    "        age = float(age)\n",
    "    except: \n",
    "        print(\"...\")\n",
    "        sys.exit(-1)\n",
    "\n",
    "# no ticket, half, full, senior\n",
    "if age < 5:\n",
    "    print(\"no ticket\")\n",
    "elif age < 10:\n",
    "    print(\"half\")\n",
    "elif age < 60:\n",
    "    print(\"full\")\n",
    "else:\n",
    "    print(\"senior\")"
   ]
  },
  {
   "cell_type": "code",
   "execution_count": null,
   "id": "994f49ce-b2dd-4ff5-b379-96534e6fbbf0",
   "metadata": {},
   "outputs": [],
   "source": [
    "a = 10\n",
    "if a."
   ]
  }
 ],
 "metadata": {
  "kernelspec": {
   "display_name": "Python 3 (ipykernel)",
   "language": "python",
   "name": "python3"
  },
  "language_info": {
   "codemirror_mode": {
    "name": "ipython",
    "version": 3
   },
   "file_extension": ".py",
   "mimetype": "text/x-python",
   "name": "python",
   "nbconvert_exporter": "python",
   "pygments_lexer": "ipython3",
   "version": "3.12.7"
  }
 },
 "nbformat": 4,
 "nbformat_minor": 5
}
