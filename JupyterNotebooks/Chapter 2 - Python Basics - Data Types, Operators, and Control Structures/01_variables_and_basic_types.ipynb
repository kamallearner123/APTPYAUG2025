{
 "cells": [
  {
   "cell_type": "markdown",
   "id": "044be458",
   "metadata": {},
   "source": [
    "# Variables and Basic Data Types\n",
    "*Generated: 2025-08-26 12:23*"
   ]
  },
  {
   "cell_type": "markdown",
   "id": "07130192",
   "metadata": {},
   "source": [
    "> This notebook includes **Introduction (no code)**, **Syntax**, **Examples with code**, and **Twisted Questions**."
   ]
  },
  {
   "cell_type": "markdown",
   "id": "b892edc4",
   "metadata": {},
   "source": [
    "## Introduction (No Code)\n",
    "Variables are **names bound to values**. Basic data types define the **kind of value** and valid operations.\n",
    "\n",
    "**Core types**\n",
    "- **int**: whole numbers (e.g., 0, 7, -12)\n",
    "- **float**: fractional numbers (e.g., 3.14, -0.001)\n",
    "- **str**: text (e.g., \"hello\")\n",
    "- **bool**: True / False\n",
    "\n",
    "**Key ideas**\n",
    "- Python variables are labels pointing to objects in memory.\n",
    "- Types influence behavior (e.g., int vs float division).\n",
    "- Strings are sequences; booleans often come from comparisons."
   ]
  },
  {
   "cell_type": "code",
   "execution_count": 5,
   "id": "d8fb8536-f5a0-4648-b896-016cd583e587",
   "metadata": {},
   "outputs": [
    {
     "name": "stdout",
     "output_type": "stream",
     "text": [
      "Excrypted Message =  0x1b\n",
      "Decrypted message =  0x11\n"
     ]
    }
   ],
   "source": [
    "'''\n",
    "Hexa decimal\n",
    "'''\n",
    "Key = 0x0A \n",
    "Message = 0x11\n",
    "# Encryption #\n",
    "EncryptedMsg = Message^Key\n",
    "print(\"Excrypted Message = \", hex(EncryptedMsg))\n",
    "\n",
    "\n",
    "\n",
    "# Decryption\n",
    "DecryptedMessage = EncryptedMsg^Key\n",
    "print(\"Decrypted message = \", hex(DecryptedMessage))\n"
   ]
  },
  {
   "cell_type": "code",
   "execution_count": 7,
   "id": "07db1d50-7c2c-465f-b80e-9793aa659b31",
   "metadata": {},
   "outputs": [
    {
     "name": "stdout",
     "output_type": "stream",
     "text": [
      "13\n"
     ]
    }
   ],
   "source": [
    "num = 0b1101\n",
    "print(num)"
   ]
  },
  {
   "cell_type": "code",
   "execution_count": 9,
   "id": "4282833b-e48d-4f1a-8d5d-ce49d20ab525",
   "metadata": {},
   "outputs": [
    {
     "name": "stdout",
     "output_type": "stream",
     "text": [
      "Leap year\n"
     ]
    }
   ],
   "source": [
    "year = 2024\n",
    "if year%4 == 0:\n",
    "    print(\"Leap year\")\n",
    "else:\n",
    "    print(\"it is not\")"
   ]
  },
  {
   "cell_type": "code",
   "execution_count": 10,
   "id": "1d1a062d-bbd2-49ed-abd4-80083888ae65",
   "metadata": {},
   "outputs": [
    {
     "name": "stdout",
     "output_type": "stream",
     "text": [
      "0\n"
     ]
    }
   ],
   "source": [
    "print(year%4)"
   ]
  },
  {
   "cell_type": "code",
   "execution_count": null,
   "id": "37d4a3cc-5a1a-4505-817b-172fe8c0c710",
   "metadata": {},
   "outputs": [],
   "source": [
    "'''\n",
    "+, -, *, /, %, **, //\n",
    "'''"
   ]
  },
  {
   "cell_type": "code",
   "execution_count": 14,
   "id": "b49f3ce0-afed-4125-bbdc-c4ce6719f12d",
   "metadata": {},
   "outputs": [
    {
     "name": "stdout",
     "output_type": "stream",
     "text": [
      "1024\n",
      "1024\n",
      "1.4142135623730951\n"
     ]
    }
   ],
   "source": [
    "num = 2\n",
    "print(2*2*2*2*2*2*2*2*2*2)\n",
    "print(2**10)\n",
    "print(2**0.5)"
   ]
  },
  {
   "cell_type": "code",
   "execution_count": 16,
   "id": "8435a99f-dbe6-4bb0-b687-f405a5a5d865",
   "metadata": {},
   "outputs": [
    {
     "name": "stdout",
     "output_type": "stream",
     "text": [
      "3.3333333333333335\n",
      "3\n"
     ]
    }
   ],
   "source": [
    "num = 10\n",
    "print(10/3)\n",
    "print(10//3)\n",
    "# floor, ciel"
   ]
  },
  {
   "cell_type": "code",
   "execution_count": 24,
   "id": "057fe4de-0f67-4880-8663-89cd039673b6",
   "metadata": {},
   "outputs": [
    {
     "name": "stdout",
     "output_type": "stream",
     "text": [
      "-11\n",
      "<class 'int'>\n"
     ]
    }
   ],
   "source": [
    "a = 0b1010 # 64-bit signed int\n",
    "b = ~a\n",
    "print(b)\n",
    "print(type(a))"
   ]
  },
  {
   "cell_type": "markdown",
   "id": "50596e96",
   "metadata": {},
   "source": [
    "## Syntax\n",
    "- Variable assignment: `name = value`\n",
    "- Type checking: `type(x)` (for learning/inspection)\n",
    "- Common literals:\n",
    "  - Integers: `0`, `-5`, `42`\n",
    "  - Floats: `3.0`, `2.5e3`\n",
    "  - Strings: `\"text\"` or `'text'`\n",
    "  - Booleans: `True`, `False`"
   ]
  },
  {
   "cell_type": "markdown",
   "id": "4024524e",
   "metadata": {},
   "source": [
    "## Examples with Code\n",
    "Run the cells below to see the concepts in action."
   ]
  },
  {
   "cell_type": "markdown",
   "id": "bb2c8c80",
   "metadata": {},
   "source": [
    "**Example:** Creating variables of different types"
   ]
  },
  {
   "cell_type": "code",
   "execution_count": null,
   "id": "fe9af251",
   "metadata": {},
   "outputs": [],
   "source": [
    "students = 42              # int\n",
    "temperature = 27.5          # float\n",
    "greeting = \"Hello, world!\"  # str\n",
    "is_open = True              # bool\n",
    "\n",
    "print(students, temperature, greeting, is_open)\n",
    "print(type(students), type(temperature), type(greeting), type(is_open))"
   ]
  },
  {
   "cell_type": "markdown",
   "id": "8f4c446a",
   "metadata": {},
   "source": [
    "**Example:** Converting between types"
   ]
  },
  {
   "cell_type": "code",
   "execution_count": null,
   "id": "5914aaae",
   "metadata": {},
   "outputs": [],
   "source": [
    "x = \"123\"\n",
    "y = int(x)       # string -> int\n",
    "z = float(y)     # int -> float\n",
    "s = str(z)       # float -> string\n",
    "print(x, y, z, s)"
   ]
  },
  {
   "cell_type": "markdown",
   "id": "1eec1c98",
   "metadata": {},
   "source": [
    "**Example:** String operations and boolean logic"
   ]
  },
  {
   "cell_type": "code",
   "execution_count": null,
   "id": "08df0c8c",
   "metadata": {},
   "outputs": [],
   "source": [
    "name = \"Asha\"\n",
    "message = \"Hello, \" + name + \"!\"      # concatenation\n",
    "repeat = name * 3                      # repetition\n",
    "contains = \"sh\" in name                # membership -> bool\n",
    "print(message, repeat, contains)"
   ]
  },
  {
   "cell_type": "markdown",
   "id": "1318c34f",
   "metadata": {},
   "source": [
    "## Twisted Questions\n",
    "1. Why is `098` invalid as an **integer literal** but valid inside a **string** like `\"098\"`?\n",
    "2. When adding an `int` to a `str`, what’s the safest approach—convert the number or the text? Why?\n",
    "3. Why can representing money as `float` cause **rounding surprises**? What is a safer alternative?\n",
    "4. Two variables point to the same list; one modifies it. Does the other change too? Explain mutability vs immutability.\n",
    "5. What happens if you multiply a string by a negative integer?"
   ]
  },
  {
   "cell_type": "code",
   "execution_count": 1,
   "id": "d4832ec9-0008-401e-ab38-e7d506b4db54",
   "metadata": {},
   "outputs": [
    {
     "name": "stdout",
     "output_type": "stream",
     "text": [
      "HelloHelloHelloHelloHelloHelloHelloHelloHelloHello\n"
     ]
    }
   ],
   "source": [
    "repeat = 10\n",
    "message = \"Hello\"\n",
    "print(message * repeat)"
   ]
  },
  {
   "cell_type": "code",
   "execution_count": 2,
   "id": "36aef5d6-531c-4469-95dc-72ef18982653",
   "metadata": {},
   "outputs": [
    {
     "name": "stdout",
     "output_type": "stream",
     "text": [
      "Hi  Kamal   Happy Vinayaka Chathurdhi\n",
      "Hi  Ateeq   Happy Vinayaka Chathurdhi\n",
      "Hi  Karthik   Happy Vinayaka Chathurdhi\n",
      "Hi  Mustafa   Happy Vinayaka Chathurdhi\n",
      "Hi  Khaja   Happy Vinayaka Chathurdhi\n"
     ]
    }
   ],
   "source": [
    "Message = \"Happy Vinayaka Chathurdhi\"\n",
    "Persons = [\"Kamal\", \"Ateeq\", \"Karthik\", \"Mustafa\", \"Khaja\"]\n",
    "\n",
    "for name in Persons:\n",
    "    print(\"Hi \", name, \" \", Message)"
   ]
  },
  {
   "cell_type": "code",
   "execution_count": 2,
   "id": "ac7953e5-3346-453a-afff-f205a07a34bb",
   "metadata": {},
   "outputs": [
    {
     "name": "stdout",
     "output_type": "stream",
     "text": [
      "Kamal is there!!\n"
     ]
    }
   ],
   "source": [
    "names = [\"khaja\",\"kamal\",\"Karth\", \"mustafa\"]\n",
    "for name in names:\n",
    "    if \"kamal\" == name:\n",
    "        print(\"Kamal is there!!\")\n"
   ]
  },
  {
   "cell_type": "code",
   "execution_count": 5,
   "id": "eb966300-0656-4d8b-bd2d-d2a7014ed509",
   "metadata": {},
   "outputs": [
    {
     "name": "stdout",
     "output_type": "stream",
     "text": [
      "no ticket\n",
      "senior\n"
     ]
    }
   ],
   "source": [
    "age = 4\n",
    "\n",
    "# no ticket, half, full, senior\n",
    "if age < 5:\n",
    "    print(\"no ticket\")\n",
    "    \n",
    "if (age>=5) and (age<10):\n",
    "    print(\"half\")\n",
    "    \n",
    "if (age>=10) and (age<60):\n",
    "    print(\"full\")\n",
    "    \n",
    "if (age>=60):\n",
    "    print(\"senior\")"
   ]
  },
  {
   "cell_type": "code",
   "execution_count": 6,
   "id": "d99fee04-407f-4aa4-be45-1ca63d511149",
   "metadata": {},
   "outputs": [
    {
     "name": "stdout",
     "output_type": "stream",
     "text": [
      "full\n"
     ]
    }
   ],
   "source": [
    "age = 60 # 3 conditions are checked\n",
    "\n",
    "# no ticket, half, full, senior\n",
    "if age < 5:\n",
    "    print(\"no ticket\")\n",
    "elif age < 10:\n",
    "    print(\"half\")\n",
    "elif age < 60:\n",
    "    print(\"full\")\n",
    "else:\n",
    "    print(\"senior\")"
   ]
  },
  {
   "cell_type": "code",
   "execution_count": 7,
   "id": "b585b1a7-5c2c-418e-b613-2dfa983ff21c",
   "metadata": {},
   "outputs": [
    {
     "name": "stdout",
     "output_type": "stream",
     "text": [
      "not\n"
     ]
    }
   ],
   "source": [
    "year = 2012\n",
    "if year%4:\n",
    "    print(\"leap\")\n",
    "else:\n",
    "    print(\"not\")"
   ]
  },
  {
   "cell_type": "code",
   "execution_count": null,
   "id": "66aff4c3-e549-443d-b71f-7934128b5fa4",
   "metadata": {},
   "outputs": [],
   "source": [
    "age = 60 # 3 conditions are checked\n",
    "\n",
    "# no ticket, half, full, senior\n",
    "if age < 5:\n",
    "    print(\"no ticket\")\n",
    "elif (age < 10):\n",
    "    print(\"half\")\n",
    "elif age < 60:\n",
    "    print(\"full\")\n",
    "else:\n",
    "    print(\"senior\")"
   ]
  },
  {
   "cell_type": "code",
   "execution_count": 8,
   "id": "9291354c-c041-44d3-a1fb-64e00575f1dd",
   "metadata": {},
   "outputs": [
    {
     "name": "stdout",
     "output_type": "stream",
     "text": [
      "11\n"
     ]
    }
   ],
   "source": [
    "num = 10\n",
    "num **= 2 # num = num ** 2\n",
    "print(num)"
   ]
  },
  {
   "cell_type": "code",
   "execution_count": 9,
   "id": "18a42d8e-6da5-4dde-951e-843dc09d6f3c",
   "metadata": {},
   "outputs": [
    {
     "name": "stdout",
     "output_type": "stream",
     "text": [
      "senior\n"
     ]
    }
   ],
   "source": [
    "age = 60 # 3 conditions are checked\n",
    "\n",
    "'''\n",
    "This program categorises slot \n",
    "No ticket\n",
    "Half\n",
    "full\n",
    "senior \n",
    "Depending on age.\n",
    "'''\n",
    "if age < 5:\n",
    "    print(\"no ticket\")\n",
    "elif (age < 10):\n",
    "    print(\"half\")\n",
    "elif age < 60:\n",
    "    print(\"full\")\n",
    "else:\n",
    "    print(\"senior\")"
   ]
  },
  {
   "cell_type": "code",
   "execution_count": 11,
   "id": "595e4883-895a-420c-9c37-a1b4779a2708",
   "metadata": {},
   "outputs": [
    {
     "name": "stdout",
     "output_type": "stream",
     "text": [
      "55.833333333333336\n"
     ]
    }
   ],
   "source": [
    "marks = 67\n",
    "max_marks = 120\n",
    "perc = (marks/max_marks)*100\n",
    "print(perc)"
   ]
  },
  {
   "cell_type": "code",
   "execution_count": 12,
   "id": "fb6ae549-ef6c-47ea-b86f-c2fe3ca579b7",
   "metadata": {},
   "outputs": [
    {
     "name": "stdout",
     "output_type": "stream",
     "text": [
      "1.2\n"
     ]
    }
   ],
   "source": [
    "# Floating point number\n",
    "num = 1.2\n",
    "print(num)"
   ]
  },
  {
   "cell_type": "code",
   "execution_count": 14,
   "id": "83839f0c-ebea-4153-a7dc-de4965aab589",
   "metadata": {},
   "outputs": [
    {
     "name": "stdout",
     "output_type": "stream",
     "text": [
      "(4+1j)\n",
      "(5+5j)\n"
     ]
    }
   ],
   "source": [
    "# Complex number: 1+2j, 3-j\n",
    "c1 = 1+2j\n",
    "c2 = 3-1j\n",
    "print(c1+c2)\n",
    "print(c1*c2) # 1*3+ (2*-1)(i**2)"
   ]
  },
  {
   "cell_type": "code",
   "execution_count": 15,
   "id": "0c584a53-fa96-4c0f-9d3e-3c910abad8d4",
   "metadata": {},
   "outputs": [
    {
     "name": "stdout",
     "output_type": "stream",
     "text": [
      "True\n"
     ]
    }
   ],
   "source": [
    "# Boolean\n",
    "Flag = True\n",
    "print(Flag)"
   ]
  },
  {
   "cell_type": "code",
   "execution_count": 18,
   "id": "77b667ed-bc7c-4de8-a18f-b1c83e2fd765",
   "metadata": {},
   "outputs": [
    {
     "name": "stdout",
     "output_type": "stream",
     "text": [
      "False\n"
     ]
    }
   ],
   "source": [
    "year = 2021\n",
    "Flag = (year%4 == 0)\n",
    "print(Flag)"
   ]
  },
  {
   "cell_type": "code",
   "execution_count": 19,
   "id": "3a4f2d05-eaba-4420-af43-71e79940529a",
   "metadata": {},
   "outputs": [
    {
     "name": "stdout",
     "output_type": "stream",
     "text": [
      "<class 'complex'>\n"
     ]
    }
   ],
   "source": [
    "num = 1+2j\n",
    "print(type(num))"
   ]
  },
  {
   "cell_type": "code",
   "execution_count": null,
   "id": "b816ad08-167e-4bfe-b826-f8a8933424a6",
   "metadata": {},
   "outputs": [],
   "source": [
    "a = 10\n",
    "b = 1.2 #flaoting \n",
    "c1 = 1+2j\n",
    "\n"
   ]
  }
 ],
 "metadata": {
  "kernelspec": {
   "display_name": "Python 3 (ipykernel)",
   "language": "python",
   "name": "python3"
  },
  "language_info": {
   "codemirror_mode": {
    "name": "ipython",
    "version": 3
   },
   "file_extension": ".py",
   "mimetype": "text/x-python",
   "name": "python",
   "nbconvert_exporter": "python",
   "pygments_lexer": "ipython3",
   "version": "3.12.7"
  }
 },
 "nbformat": 4,
 "nbformat_minor": 5
}
