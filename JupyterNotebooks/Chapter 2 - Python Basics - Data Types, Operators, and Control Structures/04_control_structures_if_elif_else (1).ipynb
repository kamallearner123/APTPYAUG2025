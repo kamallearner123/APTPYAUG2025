{
 "cells": [
  {
   "cell_type": "markdown",
   "id": "a9e943b3",
   "metadata": {},
   "source": [
    "# Control Structures: if / elif / else\n",
    "*Generated: 2025-08-26 12:23*"
   ]
  },
  {
   "cell_type": "markdown",
   "id": "2fae93c7",
   "metadata": {},
   "source": [
    "> This notebook includes **Introduction (no code)**, **Syntax**, **Examples with code**, and **Twisted Questions**."
   ]
  },
  {
   "cell_type": "markdown",
   "id": "86f59014",
   "metadata": {},
   "source": [
    "## Introduction (No Code)\n",
    "Decision-making constructs choose **one path** based on conditions.\n",
    "- Conditions are evaluated **top to bottom**; first True branch runs.\n",
    "- Use **else** as a fallback/default.\n",
    "- Keep conditions **clear** and avoid overlap when possible."
   ]
  },
  {
   "cell_type": "markdown",
   "id": "bb333773",
   "metadata": {},
   "source": [
    "## Syntax\n",
    "Basic pattern:\n",
    "```python\n",
    "if condition1:\n",
    "    # do something\n",
    "elif condition2:\n",
    "    # do something else\n",
    "else:\n",
    "    # default/fallback\n",
    "```\n",
    "(Use well-named flags/expressions to keep it readable.)"
   ]
  },
  {
   "cell_type": "markdown",
   "id": "fd05cc4a",
   "metadata": {},
   "source": [
    "## Examples with Code\n",
    "Run the cells below to see the concepts in action."
   ]
  },
  {
   "cell_type": "markdown",
   "id": "de3744eb",
   "metadata": {},
   "source": [
    "**Example:** Ticket pricing decision"
   ]
  },
  {
   "cell_type": "code",
   "execution_count": null,
   "id": "b4d6c519",
   "metadata": {},
   "outputs": [],
   "source": [
    "age = 62\n",
    "if age < 5:\n",
    "    price = 0\n",
    "elif age <= 18:\n",
    "    price = 50\n",
    "elif age >= 60:\n",
    "    price = 70\n",
    "else:\n",
    "    price = 100\n",
    "print(\"Ticket price:\", price)"
   ]
  },
  {
   "cell_type": "markdown",
   "id": "d33d1601",
   "metadata": {},
   "source": [
    "**Example:** Multiple conditions and priority"
   ]
  },
  {
   "cell_type": "code",
   "execution_count": null,
   "id": "79a0b5ce",
   "metadata": {},
   "outputs": [],
   "source": [
    "temp = 42\n",
    "if temp > 40:\n",
    "    alert = \"HEAT\"\n",
    "elif temp < 5:\n",
    "    alert = \"COLD\"\n",
    "else:\n",
    "    alert = \"NORMAL\"\n",
    "print(\"Alert:\", alert)"
   ]
  },
  {
   "cell_type": "markdown",
   "id": "2a9a6c28",
   "metadata": {},
   "source": [
    "**Example:** Guard clauses (early exit style)"
   ]
  },
  {
   "cell_type": "code",
   "execution_count": null,
   "id": "33fb606a",
   "metadata": {},
   "outputs": [],
   "source": [
    "username = \"guest\"\n",
    "password_ok = False\n",
    "\n",
    "if username is None:\n",
    "    result = \"no user\"\n",
    "elif not password_ok:\n",
    "    result = \"wrong password\"\n",
    "else:\n",
    "    result = \"login ok\"\n",
    "print(result)"
   ]
  },
  {
   "cell_type": "markdown",
   "id": "b20ba840",
   "metadata": {},
   "source": [
    "## Twisted Questions\n",
    "1. If more than one condition can be True, how do you enforce **priority**?\n",
    "2. When should you reorder conditions for **performance** or clarity?\n",
    "3. What dangers arise when **else** becomes a catch-all for unrelated cases?\n",
    "4. How could decision tables or lookups conceptually reduce long chains of `elif`?\n",
    "5. What’s your strategy when a required value for a condition might be **missing**?"
   ]
  }
 ],
 "metadata": {},
 "nbformat": 4,
 "nbformat_minor": 5
}