{
 "cells": [
  {
   "cell_type": "markdown",
   "id": "70a64aaf",
   "metadata": {},
   "source": [
    "# Parameters, Arguments, and Return Values\n",
    "*Generated: 2025-08-26 12:16*\n",
    "\n",
    "> **Note:** This notebook contains explanations, examples, and twisted questions **without code**, as requested."
   ]
  },
  {
   "cell_type": "markdown",
   "id": "764e4f0c",
   "metadata": {},
   "source": [
    "## Introduction\n",
    "**Parameters** are the placeholders listed in a function’s definition; **arguments** are the concrete values passed when calling the function.\n",
    "**Return values** are the outcomes a function outputs back to the caller.\n",
    "     \n",
    "**Key ideas**\n",
    "- **Arity**: the number of parameters a function accepts\n",
    "- **Defaults**: conceptual fallback values when arguments are omitted\n",
    "- **Named/keyword vs positional**: identify arguments by name or by order\n",
    "- **Multiple return values**: conceptually bundling several outcomes together\n",
    "- **Design for clarity**: choose parameter names and ordering to make calls self-explanatory"
   ]
  },
  {
   "cell_type": "markdown",
   "id": "4c4786bc",
   "metadata": {},
   "source": [
    "## Examples (no code)\n",
    "- *compute_grade(score, curve)*: two positional arguments, returns a letter grade.\n",
    "- *resize(image, width, height, keep_aspect=True)*: one parameter behaves like a **flag** to alter behavior.\n",
    "- *decompose_date(date_str)*: returns multiple components: day, month, year (conceptually grouped)."
   ]
  },
  {
   "cell_type": "markdown",
   "id": "1ee88120",
   "metadata": {},
   "source": [
    "## Twisted Questions\n",
    "1. If a function has **many parameters**, how do you reduce cognitive load for callers (grouping, objects, sensible defaults)?\n",
    "2. When are **default values** harmful, e.g., silently masking missing inputs?\n",
    "3. Is it better to return **one combined object** or **several independent values**? Which communicates intent better?\n",
    "4. What subtle bugs arise when callers **swap positional arguments** accidentally?\n",
    "5. If a function can **fail**, how should the return value communicate this (sentinel values vs structured results)?"
   ]
  }
 ],
 "metadata": {},
 "nbformat": 4,
 "nbformat_minor": 5
}