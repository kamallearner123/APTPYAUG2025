{
 "cells": [
  {
   "cell_type": "markdown",
   "id": "7ec2063f",
   "metadata": {},
   "source": [
    "# Recursion Basics and AI Use Cases (Tree Traversals)\n",
    "*Generated: 2025-08-26 12:16*\n",
    "\n",
    "> **Note:** This notebook contains explanations, examples, and twisted questions **without code**, as requested."
   ]
  },
  {
   "cell_type": "markdown",
   "id": "e8c05f7f",
   "metadata": {},
   "source": [
    "## Introduction\n",
    "**Recursion** is a technique where a function solves a problem by **calling itself** on smaller subproblems until a **base case** is reached.\n",
    "     \n",
    "**Core concepts**\n",
    "- **Base case**: the simplest instance with a direct answer\n",
    "- **Recursive case**: reduce the problem to smaller instances\n",
    "- **Progress toward base**: each step must get **closer** to termination\n",
    "- **Stack depth**: each call consumes space/time; beware of deep structures"
   ]
  },
  {
   "cell_type": "markdown",
   "id": "97123d88",
   "metadata": {},
   "source": [
    "## Examples (no code)\n",
    "- **Mathematical**: computing a factorial by reducing n → n-1\n",
    "- **Data structures**: **tree traversal** (preorder, inorder, postorder) visiting nodes recursively\n",
    "- **Divide & Conquer**: breaking arrays into halves for search/sort (conceptual)\n",
    "- **AI-related**: traversing **search trees** in game playing (minimax), walking **parse trees** in NLP, exploring **decision trees** in ML"
   ]
  },
  {
   "cell_type": "markdown",
   "id": "001a6cf0",
   "metadata": {},
   "source": [
    "## Twisted Questions\n",
    "1. How do you choose a **base case** that is both correct and minimal?\n",
    "2. What symptoms indicate **infinite recursion**, and how would you redesign to guarantee progress?\n",
    "3. When is recursion **clearer** than iteration, and when is it **slower or riskier** due to depth?\n",
    "4. In tree traversal for AI search, how do you avoid **revisiting states** or exploding the search space (memoization, pruning, heuristics)?\n",
    "5. If a recursion processes a huge tree, how would you conceptually **limit depth** or **switch** to an iterative approach?"
   ]
  }
 ],
 "metadata": {},
 "nbformat": 4,
 "nbformat_minor": 5
}