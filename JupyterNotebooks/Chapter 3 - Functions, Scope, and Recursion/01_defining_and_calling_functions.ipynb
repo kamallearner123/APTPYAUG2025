{
 "cells": [
  {
   "cell_type": "markdown",
   "id": "5a2d0df5",
   "metadata": {},
   "source": [
    "# Defining and Calling Functions\n",
    "*Generated: 2025-08-26 12:16*\n",
    "\n",
    "> **Note:** This notebook contains explanations, examples, and twisted questions **without code**, as requested."
   ]
  },
  {
   "cell_type": "markdown",
   "id": "d0b2ac6a",
   "metadata": {},
   "source": [
    "## Introduction\n",
    "A **function** is a named, reusable block of logic. You define it once and **call** it many times.\n",
    "     \n",
    "**Why functions?**\n",
    "- **Abstraction**: hide complex steps behind a simple name\n",
    "- **Reuse**: avoid repetition (DRY principle)\n",
    "- **Testability**: smaller units are easier to verify\n",
    "- **Collaboration**: clear boundaries between components\n",
    "     \n",
    "**Concepts**\n",
    "- **Definition**: give the function a name and describe its inputs and outputs (conceptually)\n",
    "- **Call**: invoke the function with concrete values (arguments) to get a result (return value)"
   ]
  },
  {
   "cell_type": "markdown",
   "id": "deae135f",
   "metadata": {},
   "source": [
    "## Examples (no code)\n",
    "- A function named *greet* takes a person's name and produces a welcome message.\n",
    "- A function named *total_cost* takes unit price and quantity and gives back a bill amount.\n",
    "- A function named *normalize_text* receives a sentence and returns a cleaned version (trimmed, lowercased, etc.)."
   ]
  },
  {
   "cell_type": "markdown",
   "id": "fba8765e",
   "metadata": {},
   "source": [
    "## Twisted Questions\n",
    "1. If you call a function that relies on **external state**, can the result differ for the same inputs? When is that desirable vs dangerous?\n",
    "2. How does giving a function **too many responsibilities** affect readability and testing?\n",
    "3. What happens when two functions **depend on each other** in a circle? What risks arise and how can you design around it?\n",
    "4. If a function has **no explicit output**, what is its value in the system (e.g., side effects, logging, mutating state)?\n",
    "5. How do you recognize when logic belongs **inside** a function vs should remain **inline** where it is used?"
   ]
  }
 ],
 "metadata": {
  "kernelspec": {
   "display_name": "Python 3 (ipykernel)",
   "language": "python",
   "name": "python3"
  },
  "language_info": {
   "codemirror_mode": {
    "name": "ipython",
    "version": 3
   },
   "file_extension": ".py",
   "mimetype": "text/x-python",
   "name": "python",
   "nbconvert_exporter": "python",
   "pygments_lexer": "ipython3",
   "version": "3.12.7"
  }
 },
 "nbformat": 4,
 "nbformat_minor": 5
}
