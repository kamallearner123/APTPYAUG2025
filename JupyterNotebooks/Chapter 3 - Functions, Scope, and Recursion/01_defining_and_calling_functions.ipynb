{
 "cells": [
  {
   "cell_type": "markdown",
   "id": "5a2d0df5",
   "metadata": {},
   "source": [
    "# Defining and Calling Functions\n",
    "*Generated: 2025-08-26 12:16*\n",
    "\n",
    "> **Note:** This notebook contains explanations, examples, and twisted questions **without code**, as requested."
   ]
  },
  {
   "cell_type": "code",
   "execution_count": 1,
   "id": "be1adcce-2a40-4c7f-9902-1f7dc03dee24",
   "metadata": {},
   "outputs": [
    {
     "name": "stdout",
     "output_type": "stream",
     "text": [
      "30\n"
     ]
    }
   ],
   "source": [
    "def add(num1, num2):\n",
    "    result = num1+num2\n",
    "    return result\n",
    "\n",
    "a = 10\n",
    "b = 20\n",
    "c = add(a,b)\n",
    "print(c)"
   ]
  },
  {
   "cell_type": "code",
   "execution_count": 2,
   "id": "fab20191-84b9-4e87-b909-ee0bf2837f7d",
   "metadata": {},
   "outputs": [
    {
     "name": "stdout",
     "output_type": "stream",
     "text": [
      "165\n"
     ]
    }
   ],
   "source": [
    "def sum_between(num1, num2):\n",
    "    # 1) \n",
    "    result = 0\n",
    "    for num in range(num1,num2+1): # range(10,20)\n",
    "        # 2)\n",
    "        result += num\n",
    "        #3) NA\n",
    "    return result\n",
    "\n",
    "start = 10\n",
    "end = 20\n",
    "# 10+11+...20\n",
    "c = sum_between(start,end)\n",
    "print(c)"
   ]
  },
  {
   "cell_type": "code",
   "execution_count": null,
   "id": "fdb9df3a-bd02-42ac-8445-3e2be129550c",
   "metadata": {},
   "outputs": [],
   "source": [
    "# Write a function which calculates factorial of a given number and return.\n",
    "# 4: 24"
   ]
  },
  {
   "cell_type": "code",
   "execution_count": 6,
   "id": "fbc6a708-6339-4b58-9dbf-62caf8254dff",
   "metadata": {},
   "outputs": [
    {
     "name": "stdin",
     "output_type": "stream",
     "text": [
      "Enter the numbver to find the factorial of 0\n"
     ]
    },
    {
     "name": "stdout",
     "output_type": "stream",
     "text": [
      "1\n"
     ]
    }
   ],
   "source": [
    "def factorial_op(num):\n",
    "    # 1) Init\n",
    "    factorial = 1\n",
    "    for i in range(1,num+1):\n",
    "       factorial = factorial*i\n",
    "    return factorial\n",
    "\n",
    "num=int(input(\"Enter the numbver to find the factorial of\"))\n",
    "print(factorial_op(num))\n"
   ]
  },
  {
   "cell_type": "markdown",
   "id": "d0b2ac6a",
   "metadata": {},
   "source": [
    "## Introduction\n",
    "A **function** is a named, reusable block of logic. You define it once and **call** it many times.\n",
    "     \n",
    "**Why functions?**\n",
    "- **Abstraction**: hide complex steps behind a simple name\n",
    "- **Reuse**: avoid repetition (DRY principle)\n",
    "- **Testability**: smaller units are easier to verify\n",
    "- **Collaboration**: clear boundaries between components\n",
    "     \n",
    "**Concepts**\n",
    "- **Definition**: give the function a name and describe its inputs and outputs (conceptually)\n",
    "- **Call**: invoke the function with concrete values (arguments) to get a result (return value)"
   ]
  },
  {
   "cell_type": "markdown",
   "id": "deae135f",
   "metadata": {},
   "source": [
    "## Examples (no code)\n",
    "- A function named *greet* takes a person's name and produces a welcome message.\n",
    "- A function named *total_cost* takes unit price and quantity and gives back a bill amount.\n",
    "- A function named *normalize_text* receives a sentence and returns a cleaned version (trimmed, lowercased, etc.)."
   ]
  },
  {
   "cell_type": "markdown",
   "id": "fba8765e",
   "metadata": {},
   "source": [
    "## Twisted Questions\n",
    "1. If you call a function that relies on **external state**, can the result differ for the same inputs? When is that desirable vs dangerous?\n",
    "2. How does giving a function **too many responsibilities** affect readability and testing?\n",
    "3. What happens when two functions **depend on each other** in a circle? What risks arise and how can you design around it?\n",
    "4. If a function has **no explicit output**, what is its value in the system (e.g., side effects, logging, mutating state)?\n",
    "5. How do you recognize when logic belongs **inside** a function vs should remain **inline** where it is used?"
   ]
  }
 ],
 "metadata": {
  "kernelspec": {
   "display_name": "Python 3 (ipykernel)",
   "language": "python",
   "name": "python3"
  },
  "language_info": {
   "codemirror_mode": {
    "name": "ipython",
    "version": 3
   },
   "file_extension": ".py",
   "mimetype": "text/x-python",
   "name": "python",
   "nbconvert_exporter": "python",
   "pygments_lexer": "ipython3",
   "version": "3.12.7"
  }
 },
 "nbformat": 4,
 "nbformat_minor": 5
}
