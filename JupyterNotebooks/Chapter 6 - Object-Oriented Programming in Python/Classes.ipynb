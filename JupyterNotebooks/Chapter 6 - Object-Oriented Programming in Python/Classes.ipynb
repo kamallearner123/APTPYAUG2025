{
 "cells": [
  {
   "cell_type": "markdown",
   "id": "bef14de0-237b-44a0-bf2b-0fb384174e32",
   "metadata": {},
   "source": [
    "# **Classes and Objects in Python**\n",
    "\n",
    "---\n",
    "\n",
    "## **1. Introduction to Object-Oriented Programming (OOP)**\n",
    "Object-Oriented Programming (OOP) is a **programming paradigm** based on the concept of \"objects,\" which contain **data (attributes)** and **methods (functions)**.\n",
    "\n",
    "### **Key OOP Principles:**\n",
    "- **Encapsulation:** Wrapping data and methods into a single unit.\n",
    "- **Inheritance:** Deriving new classes from existing ones.\n",
    "- **Polymorphism:** Using a single interface to represent different types.\n",
    "- **Abstraction:** Hiding implementation details from the user.\n",
    "\n",
    "---\n",
    "\n",
    "## **2. Classes and Objects**\n",
    "A **class** is a blueprint for creating objects, while an **object** is an instance of a class.\n",
    "\n",
    "### **Defining a Class and Creating an Object:**\n",
    "```python\n",
    "class Car:\n",
    "    def __init__(self, brand, color):\n",
    "        self.brand = brand  # Attribute\n",
    "        self.color = color  # Attribute\n",
    "    \n",
    "    def drive(self):\n",
    "        return f\"{self.brand} car is driving.\"\n",
    "\n",
    "# Creating an object\n",
    "my_car = Car(\"Toyota\", \"Red\")\n",
    "print(my_car.drive())  # Output: Toyota car is driving.\n",
    "```\n",
    "\n",
    "---\n",
    "\n",
    "## **3. Instance and Class Variables**\n",
    "- **Instance Variables:** Unique to each object.\n",
    "- **Class Variables:** Shared among all instances.\n",
    "\n",
    "```python\n",
    "class Employee:\n",
    "    company = \"TechCorp\"  # Class variable\n",
    "    \n",
    "    def __init__(self, name, age):\n",
    "        self.name = name  # Instance variable\n",
    "        self.age = age  # Instance variable\n",
    "```\n",
    "\n",
    "---\n",
    "\n",
    "## **4. Methods in a Class**\n",
    "### **Instance Methods:** Operate on instance attributes.\n",
    "```python\n",
    "class Person:\n",
    "    def __init__(self, name, age):\n",
    "        self.name = name\n",
    "        self.age = age\n",
    "    \n",
    "    def greet(self):\n",
    "        return f\"Hello, my name is {self.name}.\"\n",
    "```\n",
    "\n",
    "### **Class Methods:** Operate on class attributes.\n",
    "```python\n",
    "class Company:\n",
    "    employees = 0  # Class variable\n",
    "    \n",
    "    def __init__(self, name):\n",
    "        self.name = name\n",
    "        Company.employees += 1\n",
    "    \n",
    "    @classmethod\n",
    "    def get_employee_count(cls):\n",
    "        return cls.employees\n",
    "```\n",
    "\n",
    "### **Static Methods:** Do not operate on instance or class variables.\n",
    "```python\n",
    "class MathUtils:\n",
    "    @staticmethod\n",
    "    def add(a, b):\n",
    "        return a + b\n",
    "```\n",
    "\n",
    "---\n",
    "\n",
    "## **5. Inheritance**\n",
    "A child class inherits methods and properties from a parent class.\n",
    "```python\n",
    "class Animal:\n",
    "    def speak(self):\n",
    "        return \"Some sound\"\n",
    "\n",
    "class Dog(Animal):\n",
    "    def speak(self):\n",
    "        return \"Bark\"\n",
    "```\n",
    "\n",
    "---\n",
    "\n",
    "## **6. Encapsulation**\n",
    "Restricts direct access to attributes using **private variables**.\n",
    "```python\n",
    "class BankAccount:\n",
    "    def __init__(self, balance):\n",
    "        self.__balance = balance  # Private attribute\n",
    "    \n",
    "    def get_balance(self):\n",
    "        return self.__balance\n",
    "```\n",
    "\n",
    "---\n",
    "\n",
    "## **7. Polymorphism**\n",
    "Allows different classes to be treated as the same interface.\n",
    "```python\n",
    "class Bird:\n",
    "    def fly(self):\n",
    "        return \"Flying...\"\n",
    "\n",
    "class Airplane:\n",
    "    def fly(self):\n",
    "        return \"Flying with fuel...\"\n",
    "\n",
    "for obj in [Bird(), Airplane()]:\n",
    "    print(obj.fly())\n",
    "```\n",
    "\n",
    "---\n",
    "\n",
    "## **8. Abstraction**\n",
    "Hides details and exposes only relevant features.\n",
    "```python\n",
    "from abc import ABC, abstractmethod\n",
    "\n",
    "class Vehicle(ABC):\n",
    "    @abstractmethod\n",
    "    def start(self):\n",
    "        pass\n",
    "\n",
    "class Car(Vehicle):\n",
    "    def start(self):\n",
    "        return \"Car engine started\"\n",
    "```\n",
    "\n",
    "---\n",
    "\n",
    "## **Conclusion**\n",
    "Classes and objects form the foundation of **Object-Oriented Programming** in Python. Mastering OOP concepts helps in writing **structured, modular, and reusable** code.\n",
    "\n"
   ]
  },
  {
   "cell_type": "code",
   "execution_count": 2,
   "id": "fa3b3a70-1e0f-4e2c-95de-570e100a831d",
   "metadata": {},
   "outputs": [
    {
     "name": "stdout",
     "output_type": "stream",
     "text": [
      "50\n",
      "('deposit', 100)\n",
      "('withdraw', 50)\n"
     ]
    }
   ],
   "source": [
    "# Examples\n",
    "# Class name: bank_account\n",
    "class bank_account:\n",
    "    # Constructor\n",
    "    def __init__(self, name):\n",
    "        self.name = name # self.name is an attribute\n",
    "        self.balance = 0 # self.name is an attribute\n",
    "        self.history = [] # Empty list to maintain a history of transaction\n",
    "    \n",
    "    # Member function: deposit\n",
    "    def deposit(self, amount):\n",
    "        self.balance += amount\n",
    "        self.history.append((\"deposit\", amount))\n",
    "\n",
    "    # Memeber function: withdraw    \n",
    "    def withdraw(self, amount):\n",
    "        self.balance -= amount\n",
    "        self.history.append((\"withdraw\", amount))\n",
    "        \n",
    "    # Member function: show_balance\n",
    "    def show_balance(self):\n",
    "        print(self.balance)\n",
    "\n",
    "    # Member function: print_history    \n",
    "    def print_history(self):\n",
    "        for item in self.history:\n",
    "            print(item)\n",
    "\n",
    "# When createing an instance: _init_ gets called\n",
    "b1 = bank_account(\"David\") # b1 is allocated at one place: self->address location where b2 is created\n",
    "b1.deposit(100)\n",
    "b1.withdraw(50)\n",
    "b1.show_balance() # 50 \n",
    "b1.print_history() # deposit 100, withdraw 50"
   ]
  },
  {
   "cell_type": "code",
   "execution_count": 3,
   "id": "3f47c253-d749-4c6f-8f1b-f2116abc67ea",
   "metadata": {},
   "outputs": [
    {
     "data": {
      "text/plain": [
       "'\\nClass: Library\\nConstructor: Name_of_library, list_of_books=[]\\nMethods:\\n=======\\nadd_book(name):\\n    - Add name to list of books\\ncheck_book(name):\\n    - Check name in list\\nissue_book(name):\\n    - Check in list, remove from list\\nhistory():\\n    - show all the transitions\\n'"
      ]
     },
     "execution_count": 3,
     "metadata": {},
     "output_type": "execute_result"
    }
   ],
   "source": [
    "'''\n",
    "Class: Library\n",
    "Constructor: Name_of_library, list_of_books=[]\n",
    "Methods:\n",
    "=======\n",
    "add_book(name):\n",
    "    - Add name to list of books\n",
    "check_book(name):\n",
    "    - Check name in list\n",
    "issue_book(name):\n",
    "    - Check in list, remove from list\n",
    "history():\n",
    "    - show all the transitions\n",
    "'''"
   ]
  },
  {
   "cell_type": "code",
   "execution_count": 11,
   "id": "4886eb47-27fa-4b65-80db-12ee337ae32f",
   "metadata": {},
   "outputs": [
    {
     "name": "stdin",
     "output_type": "stream",
     "text": [
      "Please enter password to withdraw: root@123\n"
     ]
    },
    {
     "name": "stdout",
     "output_type": "stream",
     "text": [
      "50\n"
     ]
    },
    {
     "name": "stdin",
     "output_type": "stream",
     "text": [
      "Please enter current password: root@123\n",
      "Enter new password root@1234\n"
     ]
    }
   ],
   "source": [
    "# Examples\n",
    "# Class name: bank_account\n",
    "class bank_account:\n",
    "    # Constructor\n",
    "    def __init__(self, name, passwd):\n",
    "        self.name = name # self.name is an attribute\n",
    "        self.__balance = 0 # self.name is an attribute: Note: Making attribute as private by prefixing __ \n",
    "        self.history = [] # Empty list to maintain a history of transaction\n",
    "        self.__password = passwd\n",
    "    \n",
    "    # Member function: deposit\n",
    "    def deposit(self, amount):\n",
    "        self.__balance += amount #\n",
    "        self.history.append((\"deposit\", amount))\n",
    "\n",
    "    # Memeber function: withdraw    \n",
    "    def withdraw(self, amount):\n",
    "        passwd = input(\"Please enter password to withdraw:\")\n",
    "        if passwd == self.__password:\n",
    "            self.__balance -= amount\n",
    "            self.history.append((\"withdraw\", amount))\n",
    "        else:\n",
    "            print(\"Password is incorrect!!!\")\n",
    "        \n",
    "    # Member function: show_balance\n",
    "    def show_balance(self):\n",
    "        print(self.__balance)\n",
    "\n",
    "    # Member function: print_history    \n",
    "    def print_history(self):\n",
    "        for item in self.history:\n",
    "            print(item)\n",
    "            \n",
    "    def __edit_password(self):\n",
    "        current = input(\"Please enter current password:\")\n",
    "        if current == self.__password:\n",
    "            newpass = input(\"Enter new password\")\n",
    "            self.__password = newpass\n",
    "        else:\n",
    "            print(\"Entered password does not match!!!\")\n",
    "\n",
    "    def change_passwd(self):\n",
    "        self.__edit_password()\n",
    "        \n",
    "\n",
    "# When createing an instance: _init_ gets called\n",
    "b1 = bank_account(\"David\", \"root@123\") # b1 is allocated at one place: self->address location where b2 is created\n",
    "b1.deposit(100) # balance is incrementing\n",
    "b1.withdraw(50) # balance is decrementing\n",
    "#print(\"Balance = {}\", b1.__balance)\n",
    "#b1.__balance = 1000 # Directly : DANGEROUS\n",
    "# Solution: Encpsulation\n",
    "b1.show_balance()\n",
    "b1.change_passwd()\n"
   ]
  },
  {
   "cell_type": "code",
   "execution_count": 12,
   "id": "26c0a44a-da86-47d6-a321-223d4afcac36",
   "metadata": {},
   "outputs": [
    {
     "name": "stdin",
     "output_type": "stream",
     "text": [
      "Please enter password to withdraw: root@1234\n"
     ]
    }
   ],
   "source": [
    "b1.withdraw(10)"
   ]
  },
  {
   "cell_type": "code",
   "execution_count": 13,
   "id": "e3bb67c7-a911-43be-b6d7-8743ac6b54fc",
   "metadata": {},
   "outputs": [
    {
     "name": "stdout",
     "output_type": "stream",
     "text": [
      "[10, 20, 30]\n"
     ]
    }
   ],
   "source": [
    "l1 = [10,20,30]\n",
    "print(l1) # __str__(self): --> Operator overloading functions"
   ]
  },
  {
   "cell_type": "code",
   "execution_count": 14,
   "id": "ef51924d-c540-48f2-b616-715266b57082",
   "metadata": {},
   "outputs": [
    {
     "name": "stdout",
     "output_type": "stream",
     "text": [
      "<__main__.bank_account object at 0x1070737a0>\n"
     ]
    }
   ],
   "source": [
    "print(b1)"
   ]
  },
  {
   "cell_type": "code",
   "execution_count": 24,
   "id": "2b0d5a00-9280-46ea-8f95-e546d2f6d035",
   "metadata": {},
   "outputs": [
    {
     "name": "stdin",
     "output_type": "stream",
     "text": [
      "Please enter password to withdraw: root@123\n"
     ]
    },
    {
     "name": "stdout",
     "output_type": "stream",
     "text": [
      "__str__ function is called!!!\n",
      "Name: David\n",
      "Balance: 50.2\n"
     ]
    }
   ],
   "source": [
    "# Examples\n",
    "# Class name: bank_account\n",
    "class bank_account:\n",
    "    # Constructor\n",
    "    def __init__(self, name, passwd):\n",
    "        self.name = name # self.name is an attribute\n",
    "        self.__balance = 0 # self.name is an attribute: Note: Making attribute as private by prefixing __ \n",
    "        self.history = [] # Empty list to maintain a history of transaction\n",
    "        self.__password = passwd\n",
    "    \n",
    "    # Member function: deposit\n",
    "    def deposit(self, amount):\n",
    "        self.__balance += amount #\n",
    "        self.history.append((\"deposit\", amount))\n",
    "\n",
    "    # Memeber function: withdraw    \n",
    "    def withdraw(self, amount):\n",
    "        passwd = input(\"Please enter password to withdraw:\")\n",
    "        if passwd == self.__password:\n",
    "            self.__balance -= amount\n",
    "            self.history.append((\"withdraw\", amount))\n",
    "        else:\n",
    "            print(\"Password is incorrect!!!\")\n",
    "        \n",
    "    # Member function: show_balance\n",
    "    def show_balance(self):\n",
    "        print(self.__balance)\n",
    "\n",
    "    # Member function: print_history    \n",
    "    def print_history(self):\n",
    "        for item in self.history:\n",
    "            print(item)\n",
    "            \n",
    "    def __edit_password(self):\n",
    "        current = input(\"Please enter current password:\")\n",
    "        if current == self.__password:\n",
    "            newpass = input(\"Enter new password\")\n",
    "            self.__password = newpass\n",
    "        else:\n",
    "            print(\"Entered password does not match!!!\")\n",
    "\n",
    "    def change_passwd(self):\n",
    "        self.__edit_password()\n",
    "        \n",
    "    def __str__(self): # Should return a string which can be printed when print(obj) gets called\n",
    "        print(\"__str__ function is called!!!\")\n",
    "        return f\"Name: {self.name}\\nBalance: {self.__balance}\"\n",
    "        \n",
    "# When createing an instance: _init_ gets called\n",
    "b1 = bank_account(\"David\", \"root@123\") # b1 is allocated at one place: self->address location where b2 is created\n",
    "b1.deposit(100.2) # balance is incrementing\n",
    "b1.withdraw(50) # balance is decrementing\n",
    "# print(b1) : Calling b1.__str__()\n",
    "print(b1)"
   ]
  },
  {
   "cell_type": "code",
   "execution_count": 23,
   "id": "e90466d3-22d3-4f84-aa78-2928381e0d09",
   "metadata": {},
   "outputs": [
    {
     "name": "stdout",
     "output_type": "stream",
     "text": [
      "__add__ is called\n",
      "Real: 11, im:22\n"
     ]
    }
   ],
   "source": [
    "class Complex: # complex is in build\n",
    "    def __init__(self, real, im):\n",
    "        self.real = real\n",
    "        self.im = im\n",
    "\n",
    "    def __add__(self, other): #c1.__add__(c2)\n",
    "        print(\"__add__ is called\")\n",
    "        result = Complex(self.real+other.real, self.im+other.im)\n",
    "        return result\n",
    "\n",
    "    def __str__(self):\n",
    "        return f\"Real: {self.real}, im:{self.im}\"\n",
    "\n",
    "c1 = Complex(10,20)\n",
    "c2 = Complex(1,2)\n",
    "c3 = c1+c2 # c1.__add__(c2)\n",
    "print(c3)\n",
    "\n",
    "c4 = c1*c2 # __mul__\n",
    "c5 = c1-c2 # __sub__"
   ]
  },
  {
   "cell_type": "code",
   "execution_count": 25,
   "id": "959c5ed7-6554-470f-b68e-421ed4963e6b",
   "metadata": {},
   "outputs": [
    {
     "name": "stdout",
     "output_type": "stream",
     "text": [
      "<class 'int'>\n",
      "<class 'float'>\n"
     ]
    }
   ],
   "source": [
    "a = 10\n",
    "print(type(a))\n",
    "a = a+0.1\n",
    "print(type(a))"
   ]
  },
  {
   "cell_type": "code",
   "execution_count": 26,
   "id": "51ca20fd-34ac-4292-82c1-9f763920b23d",
   "metadata": {},
   "outputs": [
    {
     "name": "stdout",
     "output_type": "stream",
     "text": [
      "<class 'int'>\n"
     ]
    },
    {
     "ename": "TypeError",
     "evalue": "unsupported operand type(s) for +: 'int' and 'str'",
     "output_type": "error",
     "traceback": [
      "\u001b[0;31m---------------------------------------------------------------------------\u001b[0m",
      "\u001b[0;31mTypeError\u001b[0m                                 Traceback (most recent call last)",
      "Cell \u001b[0;32mIn[26], line 3\u001b[0m\n\u001b[1;32m      1\u001b[0m a \u001b[38;5;241m=\u001b[39m \u001b[38;5;241m10\u001b[39m\n\u001b[1;32m      2\u001b[0m \u001b[38;5;28mprint\u001b[39m(\u001b[38;5;28mtype\u001b[39m(a))\n\u001b[0;32m----> 3\u001b[0m a \u001b[38;5;241m=\u001b[39m a\u001b[38;5;241m+\u001b[39m\u001b[38;5;124m\"\u001b[39m\u001b[38;5;124mhello\u001b[39m\u001b[38;5;124m\"\u001b[39m\n\u001b[1;32m      4\u001b[0m \u001b[38;5;28mprint\u001b[39m(\u001b[38;5;28mtype\u001b[39m(a))\n",
      "\u001b[0;31mTypeError\u001b[0m: unsupported operand type(s) for +: 'int' and 'str'"
     ]
    }
   ],
   "source": [
    "a = 10\n",
    "print(type(a))\n",
    "a = a+\"hello\"\n",
    "print(type(a))"
   ]
  },
  {
   "cell_type": "code",
   "execution_count": null,
   "id": "f4a9785f-6974-429f-b459-3bbe7d4d5250",
   "metadata": {},
   "outputs": [],
   "source": []
  }
 ],
 "metadata": {
  "kernelspec": {
   "display_name": "Python 3 (ipykernel)",
   "language": "python",
   "name": "python3"
  },
  "language_info": {
   "codemirror_mode": {
    "name": "ipython",
    "version": 3
   },
   "file_extension": ".py",
   "mimetype": "text/x-python",
   "name": "python",
   "nbconvert_exporter": "python",
   "pygments_lexer": "ipython3",
   "version": "3.12.7"
  }
 },
 "nbformat": 4,
 "nbformat_minor": 5
}
