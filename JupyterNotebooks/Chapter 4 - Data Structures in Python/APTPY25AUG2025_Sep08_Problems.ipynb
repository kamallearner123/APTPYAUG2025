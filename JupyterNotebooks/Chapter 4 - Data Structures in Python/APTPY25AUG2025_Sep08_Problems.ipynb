{
 "cells": [
  {
   "cell_type": "code",
   "execution_count": 1,
   "id": "e08b05f8-a646-4e43-9f1a-ab9b9633095a",
   "metadata": {},
   "outputs": [
    {
     "name": "stdin",
     "output_type": "stream",
     "text": [
      " 5\n",
      " 12,3,5,16,8\n"
     ]
    },
    {
     "name": "stdout",
     "output_type": "stream",
     "text": [
      "<map object at 0x10671f670>\n"
     ]
    }
   ],
   "source": [
    "if __name__ == '__main__':\n",
    "    n = int(input())\n",
    "    arr = map(int, input().split())\n",
    "    print(arr)"
   ]
  },
  {
   "cell_type": "code",
   "execution_count": null,
   "id": "82305efe-a4de-4cc3-99bb-e86930e6817e",
   "metadata": {},
   "outputs": [],
   "source": [
    "# List \n",
    "# map(function, list1/tuples1/dictionary/set/string)\n",
    "l1 = [\"kamal\", \"khaja\", \"david\", \"Mahesh\"]\n",
    "\n"
   ]
  },
  {
   "cell_type": "code",
   "execution_count": 8,
   "id": "453f376d-85d9-4905-9b71-fd1a587d5634",
   "metadata": {},
   "outputs": [
    {
     "name": "stdout",
     "output_type": "stream",
     "text": [
      "the hindu\n",
      "The Hindu\n",
      "---------------------------------------------The Hindu----------------------------------------------\n",
      "Todays news: India has agreed trade between china and india\n"
     ]
    }
   ],
   "source": [
    "s1 = \"the hindu\"\n",
    "mesg = \"Todays news: India has agreed trade between china and india\"\n",
    "print(s1)\n",
    "s2 = s1.title()\n",
    "print(s2)\n",
    "s3 = s2.center(100,\"-\")\n",
    "print(s3)\n",
    "print(mesg)\n"
   ]
  },
  {
   "cell_type": "code",
   "execution_count": 19,
   "id": "674c21b6-5c34-4e2a-9f9d-908f0df8e42b",
   "metadata": {},
   "outputs": [
    {
     "name": "stdout",
     "output_type": "stream",
     "text": [
      "2\n"
     ]
    },
    {
     "data": {
      "text/plain": [
       "<function str.join(iterable, /)>"
      ]
     },
     "execution_count": 19,
     "metadata": {},
     "output_type": "execute_result"
    }
   ],
   "source": [
    "s1 = \"the hindu, The world\"\n",
    "s1 = s1.lower()\n",
    "print(s1.count(\"the\"))\n"
   ]
  },
  {
   "cell_type": "code",
   "execution_count": 17,
   "id": "a26876da-3f00-4242-a0e5-78e442e5eb6a",
   "metadata": {},
   "outputs": [
    {
     "name": "stdout",
     "output_type": "stream",
     "text": [
      "['BookName', 'Author', 'Price', 'Quantity']\n",
      "['BOOKNAME', 'AUTHOR', 'PRICE', 'QUANTITY']\n",
      "BOOKNAME#AUTHOR#PRICE#QUANTITY\n"
     ]
    }
   ],
   "source": [
    "s1 = \"Kamal kumar:Khaja emamul:Mahesh reddy\"\n",
    "l1 = s1.split(\":\") # Split with demiliter : and create list of all sub strings.\n",
    "print(l1)\n",
    "l2 = list(map(lambda x:x.upper(), l1))\n",
    "print(l2)\n",
    "'''\n",
    "l3 = []\n",
    "for name in l1:\n",
    "    l3.append(name.upper())\n",
    "'''\n",
    "\n",
    "s2 = \"-\".join(l2) \n",
    "\n",
    "'''\n",
    "class str:\n",
    "    def __init__(self, chars):\n",
    "        self.string = chars\n",
    "        \n",
    "    def join(self, list_words):\n",
    "        result = \"\"\n",
    "        for word in list_words:\n",
    "            result += word+self.string\n",
    "        return result\n",
    "'''\n",
    "\n",
    "print(s2)"
   ]
  },
  {
   "cell_type": "code",
   "execution_count": 28,
   "id": "2b0ab7b6-55be-4b50-a774-9f9e11f0fb1c",
   "metadata": {},
   "outputs": [
    {
     "name": "stdout",
     "output_type": "stream",
     "text": [
      "Kamal kumar mukiri:Khaja emamul:Mahesh reddy\n",
      "['Kamal kumar mukiri', 'Khaja emamul', 'Mahesh reddy']\n",
      "['KKM', 'KE', 'MR']\n",
      "KKM:KE:MR\n"
     ]
    }
   ],
   "source": [
    "s1 = \"Kamal kumar mukiri:Khaja emamul:Mahesh reddy\"\n",
    "print(s1)\n",
    "l1 = s1.split(\":\") # Split with demiliter : and create list of all sub strings.\n",
    "print(l1)\n",
    "\n",
    "def make_short(name): # \"kamal kumar mukiri\"\n",
    "    # name: \"kamal kumar mukiri\" --> KKM\n",
    "    name = name.upper() # \"KAMAL KUMAR MUKIRI\"\n",
    "    subnames = name.split(\" \") # [\"KAMAL\", \"KUMAR\", \"MUKIRI\"]\n",
    "    result = \"\"\n",
    "    for subname in subnames: # MUKIRI\n",
    "        result += subname[0] # KKM\n",
    "    return result\n",
    "\n",
    "l2 = []\n",
    "for name in l1:\n",
    "    l2.append(make_short(name))\n",
    "print(l2)\n",
    "s2 = \":\".join(l2)\n",
    "print(s2)\n"
   ]
  },
  {
   "cell_type": "code",
   "execution_count": 29,
   "id": "2fa47034-ddfa-4dd2-bbfc-e77e9fd6321b",
   "metadata": {},
   "outputs": [
    {
     "name": "stdout",
     "output_type": "stream",
     "text": [
      "Kamal kumar mukiri:Khaja emamul:Mahesh reddy\n",
      "['Kamal kumar mukiri', 'Khaja emamul', 'Mahesh reddy']\n",
      "KKM:KE:MR\n"
     ]
    }
   ],
   "source": [
    "s1 = \"Kamal kumar mukiri:Khaja emamul:Mahesh reddy\"\n",
    "print(s1)\n",
    "l1 = s1.split(\":\") # Split with demiliter : and create list of all sub strings.\n",
    "print(l1)\n",
    "\n",
    "def make_short(name): # \"kamal kumar mukiri\"\n",
    "    # name: \"kamal kumar mukiri\" --> KKM\n",
    "    name = name.upper() # \"KAMAL KUMAR MUKIRI\"\n",
    "    subnames = name.split(\" \") # [\"KAMAL\", \"KUMAR\", \"MUKIRI\"]\n",
    "    result = \"\"\n",
    "    for subname in subnames: # MUKIRI\n",
    "        result += subname[0] # KKM\n",
    "    return result\n",
    "\n",
    "# l2 = []\n",
    "# for name in l1:\n",
    "#     l2.append(make_short(name))\n",
    "# print(l2)\n",
    "\n",
    "'''\n",
    "1) From \"l1\" each element is passed to function \"make_short\"\n",
    "2) Each return value of \"make_short\" is collected into l2\n",
    "'''\n",
    "l2 = list(map(make_short, l1))\n",
    "\n",
    "s2 = \":\".join(l2)\n",
    "print(s2)"
   ]
  },
  {
   "cell_type": "code",
   "execution_count": null,
   "id": "e1802001-9e75-42e4-ab71-75ba4140947a",
   "metadata": {},
   "outputs": [],
   "source": [
    "# Data compression\n"
   ]
  },
  {
   "cell_type": "code",
   "execution_count": 13,
   "id": "821be0a1-b215-48e5-be61-4fb229d6165e",
   "metadata": {},
   "outputs": [
    {
     "name": "stdout",
     "output_type": "stream",
     "text": [
      "3\n",
      "3\n"
     ]
    }
   ],
   "source": [
    "# Lambda function\n",
    "def add(a,b):\n",
    "    return a+b\n",
    "\n",
    "\n",
    "add_lambda = lambda x,y:x+y\n",
    "\n",
    "print(add(1,2))\n",
    "print(add_lambda(1,2))"
   ]
  },
  {
   "cell_type": "code",
   "execution_count": 41,
   "id": "cbbf4333-971f-4ae1-b083-63f61b546b46",
   "metadata": {},
   "outputs": [
    {
     "name": "stdout",
     "output_type": "stream",
     "text": [
      "The Hindu Logo  Search India News   India   World \n",
      "['The', 'Hindu', 'Logo', 'Search', 'India', 'News', 'India', 'World', 'States', 'Cities']\n",
      "['Hindu', 'Logo', 'Search', 'India', 'News', 'India', 'World', 'States', 'Cities', 'India']\n",
      "Total words :  198\n",
      "Total Unique words  111\n",
      "{'Sankarshan': 2, 'Aadhaar:': 1, 'General': 1, 'Indian': 1, 'Photo:': 2, 'Cities': 1, 'Aligarh': 1, 'India': 9, 'Senior': 1, 'Elgar': 1, 'U.S.': 1, 'Modi.': 1, 'Hazarika.': 1, 'Conference': 1, 'Sarma': 1, 'Maharashtra:': 1, 'Mahesh': 2, 'News': 1, 'States': 1, 'Reddy': 1, 'Gujarat': 1, 'Rajagopal': 2, 'Rashtriya': 1, 'Trivedi': 1, 'Jairam': 1, 'Narendra': 2, 'Sarma.': 1, 'August': 1, 'Monday': 1, 'Police': 2, 'File': 5, 'Thakur': 2, 'Sudershan': 1, 'Bangladeshi': 1, 'World': 1, 'Force': 1, 'Justice': 1, 'Venkatraman': 1, 'Nitish': 3, 'Vice-Presidential': 1, 'Naima': 1, 'Congress': 2, 'Bureau': 7, 'State': 1, 'West': 2, 'September': 1, 'Director': 1, 'Commission': 1, 'Chief': 1, 'States,': 1, 'Hindu': 8, 'Sasmit': 2, 'Inaugurate': 1, 'Minister': 3, 'Bengal': 2, 'Commanders’': 1, 'Prasad.': 1, 'Nadu': 3, 'Vedanta': 1, 'Janata': 1, 'File.': 3, 'Tribal': 1, 'Tamil': 3, 'Prime': 2, 'Court': 13, 'Patra': 2, 'Ramesh': 1, 'Madhya': 1, 'Yadav': 2, 'Voter': 1, 'Pradesh': 1, 'Assam:': 1, 'Bhupen': 1, 'Raut': 1, 'Krishnadas': 2, 'India.': 2, 'Kolkata': 1, 'More': 1, 'Mela': 1, 'Himanta': 2, 'Indore': 1, 'T.N.': 2, 'Research': 1, '(September': 1, 'Lalu': 2, 'Viceroy': 1, 'Assam': 2, 'Biswa': 2, 'First': 1, 'Swadeshi': 1, 'Terror': 1, 'Prasad,': 1, 'Search': 1, 'Chandran': 1, 'Supreme': 13, 'Katara': 3, 'University': 1, 'Khatoon': 1, 'Hazarika': 1, 'Yadav,': 1, 'Combined': 1, 'Modi': 4, 'Editor': 1, 'Delhi.': 1, 'Logo': 1, 'Parishad': 1, 'Muslim': 1, 'Vikas': 3, 'Telegraph,': 1, 'Saurabh': 1, 'Election': 1}\n"
     ]
    }
   ],
   "source": [
    "news = '''The Hindu Logo\n",
    "\n",
    "Search\n",
    "India\n",
    "News\n",
    " \n",
    "India\n",
    " \n",
    "World\n",
    " \n",
    "States\n",
    " \n",
    "Cities\n",
    "India\n",
    "Nitish Katara murder case: Supreme Court refuses to extend interim bail of convict Vikas Yadav\n",
    "The Hindu Bureau\n",
    "India\n",
    "Terror conspiracy case: NIA searches underway at 22 locations in five States, J&K\n",
    "PTI\n",
    "India\n",
    "First woman V-C for AMU: Supreme Court refuses to intervene in plea challenging appointment of Naima Khatoon\n",
    "Krishnadas Rajagopal\n",
    "ED officials conducting the raids were accompanied by a large number of personnel of the central security forces. File\n",
    "West Bengal\n",
    "ED conducts raids in several areas of West Bengal over sand smuggling racket\n",
    "PTI\n",
    "BJD MPs to abstain from voting in Vice-Presidential elections\n",
    "BJD MP Sasmit Patra said as the party wants to maintain an equal distance from both the NDA and INDIA bloc, they will be abstaining from the vice-presidential elections.\n",
    "BJD MP Sasmit Patra said that the BJD maintains an equal distance from both the NDA and the INDIA bloc\n",
    "PTI\n",
    "Madhya Pradesh\n",
    "Tribal outfit claims rats bit 4 fingers of newborn girl, accuses Indore hospital of ‘cover-up’\n",
    "PTI\n",
    "India\n",
    "Supreme Court asks UPSC, T.N. to consider names for regular DGP ‘expeditiously’\n",
    "Voter fraud allegations in Maharashtra: Had no role to play in approving content of bulk SMS messages, says TRAI\n",
    "\n",
    "More stories from India\n",
    "Justice (retired) B. Sudershan Reddy meeting with Rashtriya Janata Dal supremo Lalu Prasad. Photo: X/@laluprasadrjd\n",
    "BJP criticises Opposition’s V-P candidate meeting Lalu Prasad, alleges hypocrisy\n",
    "The Hindu Bureau\n",
    "Prime Minister Narendra Modi stressed the need for promoting made-in-India products by holding special fairs across constituencies. File.\n",
    "PM Modi asks NDA MPs to organise Swadeshi Mela\n",
    "PTI\n",
    "Congress MP Jairam Ramesh alleged that repeated obstacles were being created by the Election Commission to deliberately inconvenience the registration of legitimate voters. File.\n",
    "ECI must be named and shamed for brazen non-compliance with Supreme Court directive on Aadhaar: Congress\n",
    "PTI\n",
    "A view of the Supreme Court of India. File.\n",
    "Use of unfair means: You are destroying entire system of public exams, Supreme Court tells accused\n",
    "PTI\n",
    "Prime Minister Narendra Modi. File\n",
    "PM Modi to Inaugurate Combined Commanders’ Conference 2025 in Kolkata\n",
    "Saurabh Trivedi\n",
    "A view of the Supreme Court of India in New Delhi. File\n",
    "Elgar Parishad case: Supreme Court to hear bail plea of activist Mahesh Raut on September 15\n",
    "The Hindu Bureau\n",
    "Assam Chief Minister Himanta Biswa Sarma. File\n",
    "A total of 18 Bangladeshi infiltrators sent back from Assam: CM Himanta Biswa Sarma\n",
    "PTI\n",
    "SC issues notice to ED, Gujarat on journalist Mahesh Langa’s bail plea\n",
    "The Hindu Bureau\n",
    "Viceroy Research had released a report charging billionaire Agarwal’s mining conglomerate as “financially unsustainable” and posing a severe risk to creditors. \n",
    "SC judge Chandran recuses from hearing plea seeking probe into U.S. short seller's allegations against Vedanta\n",
    "PTI\n",
    " Supreme Court refused to extend the interim bail of convict Vikas Yadav, who is serving a 25-year jail term in the sensational 2002 Nitish Katara murder case.\n",
    "Nitish Katara murder case: Supreme Court refuses to extend interim bail of Vikas Yadav\n",
    "The Hindu Bureau\n",
    "Tamil Nadu briefed the court in response to a petition seeking contempt action against the State of Tamil Nadu for appointing G. Venkatraman as the Tamil Nadu Director General of Police (DGP)/Head of Police Force in-charge on August 31.\n",
    "Supreme Court asks UPSC, T.N. to consider names for regular DGP ‘expeditiously’\n",
    "The Hindu Bureau\n",
    "A view of the Supreme Court of India. File\n",
    "Supreme Court refuses to intervene in plea challenging the appointment of first woman V-C for Aligarh Muslim University\n",
    "Krishnadas Rajagopal\n",
    "Editor of The Telegraph, Sankarshan Thakur passed away on Monday (September 8, 2025). Photo: X/@PCITweets\n",
    "Senior journalist Sankarshan Thakur passes away\n",
    "The Hindu Bureau\n",
    "In this photo taken in 2009, legendary Indian singer from Assam Bhupen Hazarika. \n",
    "Hazarika one of the most extraordinary voices India has ever known: PM Modi\n",
    "PTI'''\n",
    "\n",
    "# Find the word which is frequenstly used\n",
    "\n",
    "# 1) Conver all letters to lower\n",
    "news = news.replace(\"\\n\", \" \")\n",
    "print(news[:50])\n",
    "\n",
    "# 2) Split into words and collect only title words\n",
    "words = news.split(\" \")\n",
    "words = list(filter(lambda x: x.istitle(), words))\n",
    "print(words[:10])\n",
    "\n",
    "\n",
    "# 3) Drop the words which are having length < 4\n",
    "filtered_words = list(filter(lambda x: len(x)>3, words))\n",
    "# filter: If the return value of function True, that element is collected into dropped_words, otherwise drop\n",
    "print(filtered_words[:10])\n",
    "print(\"Total words : \", len(filtered_words))\n",
    "# Get list of unique words\n",
    "unique_words = set(filtered_words)\n",
    "print(\"Total Unique words \", len(unique_words))\n",
    "\n",
    "# 4) Create a dictionary : {\"India\":5, \"World\":2}\n",
    "d1 = {}\n",
    "for word in unique_words:\n",
    "    d1[word] = filtered_words.count(word)\n",
    "print(d1)\n",
    "\n",
    "# 5) Sorting dictionary\n",
    "#???? Home work"
   ]
  },
  {
   "cell_type": "code",
   "execution_count": 37,
   "id": "df413fb2-a524-4b9b-9123-e5751290c705",
   "metadata": {},
   "outputs": [
    {
     "data": {
      "text/plain": [
       "True"
      ]
     },
     "execution_count": 37,
     "metadata": {},
     "output_type": "execute_result"
    }
   ],
   "source": [
    "s1 = \"Hello\"\n",
    "s1.istitle()"
   ]
  },
  {
   "cell_type": "code",
   "execution_count": null,
   "id": "f9952905-bf66-4bbb-ae4a-7438a9f633a1",
   "metadata": {},
   "outputs": [],
   "source": []
  }
 ],
 "metadata": {
  "kernelspec": {
   "display_name": "Python3 (DeepCode)",
   "language": "python",
   "name": "deepcode"
  },
  "language_info": {
   "codemirror_mode": {
    "name": "ipython",
    "version": 3
   },
   "file_extension": ".py",
   "mimetype": "text/x-python",
   "name": "python",
   "nbconvert_exporter": "python",
   "pygments_lexer": "ipython3",
   "version": "3.13.5"
  }
 },
 "nbformat": 4,
 "nbformat_minor": 5
}
