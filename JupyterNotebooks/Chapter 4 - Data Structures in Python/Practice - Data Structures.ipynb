{
 "cells": [
  {
   "cell_type": "markdown",
   "id": "593f1f1e",
   "metadata": {},
   "source": [
    "# Practice: Data Structures in Python\n",
    "Explore lists, tuples, sets, and dictionaries. Practice manipulating these data structures with code examples and exercises."
   ]
  }
 ],
 "metadata": {
  "language_info": {
   "name": "python"
  }
 },
 "nbformat": 4,
 "nbformat_minor": 5
}
