{
 "cells": [
  {
   "cell_type": "code",
   "execution_count": 1,
   "id": "064a9677-b395-4fed-b2c4-67299282ee55",
   "metadata": {},
   "outputs": [],
   "source": [
    "# Primitive \n",
    "# int, float, complex, Bolean, None\n",
    "a = 10 # a \n",
    "# Non-Premitive (Composite data type) (Container)\n",
    "l1 = [1, 2, 0.1, \"Hello\"] # List of elements of any type.\n",
    "d1 = {\"kamal\":{\"Name\": \"Kamal Kuamr\", \"Roll\": 13},\n",
    "      \"david\":{}} # key:value\n",
    "s1 = {1,2,3,4,4,4,4,4} # Sets\n",
    "t1 = (1,2,3,\"Hello\")\n",
    "str1 = \"Hello worl\""
   ]
  },
  {
   "cell_type": "code",
   "execution_count": null,
   "id": "c5a3b05e-f18b-4dfe-bd79-0b3e8999c463",
   "metadata": {},
   "outputs": [],
   "source": [
    "'''\n",
    "Problem: Do data compression\n",
    "\n",
    "input = \"aaaaaabccccccccccdddddd\" # 23 bytes\n",
    "\n",
    "out = ('a',6,'b',1, 'c',10,'d',6) # 8 bytes\n",
    "\n",
    "aaaaaabccccccccccccdddddd # 23 bytes\n",
    "'''\n",
    "\n",
    "\n",
    "'''\n",
    "Problem: Given num is Palindrome or not\n",
    "'''\n",
    "\n",
    "'''\n",
    "Problem: Find a word with all unique chars\n",
    "helloworld\n",
    "'''"
   ]
  },
  {
   "cell_type": "code",
   "execution_count": null,
   "id": "32b79e54-a3b8-498e-a42d-75265f2cfb6c",
   "metadata": {},
   "outputs": [],
   "source": [
    "'''\n",
    "1) How to initialise\n",
    "2) How to access (indexing, key, member fucntions)\n",
    "3) How to update\n",
    "4) How to delete partial data\n",
    "5) How to delete completely\n",
    "'''"
   ]
  },
  {
   "cell_type": "code",
   "execution_count": 6,
   "id": "b858e800-ab64-48e5-b9f6-d4234b5575ca",
   "metadata": {},
   "outputs": [
    {
     "name": "stdout",
     "output_type": "stream",
     "text": [
      "['a', 'b', 'c']\n",
      "a\n"
     ]
    }
   ],
   "source": [
    "l1 = [\"a\", \"b\", \"c\"]\n",
    "print(l1)\n",
    "print(l1[0]) # Indexing "
   ]
  },
  {
   "cell_type": "code",
   "execution_count": 7,
   "id": "18939a87-7b64-4785-b28f-0d32e7e832bf",
   "metadata": {},
   "outputs": [
    {
     "name": "stdout",
     "output_type": "stream",
     "text": [
      "[1, 2, 3]\n"
     ]
    }
   ],
   "source": [
    "l1 = [[1,2,3], [4,5,6]]\n",
    "print(l1[0])"
   ]
  },
  {
   "cell_type": "code",
   "execution_count": 28,
   "id": "3b345bfa-4c7d-4ed4-bab2-bcffebf70f4e",
   "metadata": {},
   "outputs": [
    {
     "name": "stdout",
     "output_type": "stream",
     "text": [
      "[11, 22, 33]\n",
      "[44, 55, 66]\n",
      "[77, 88, 99]\n",
      "[[11, 22, 33], [44, 55, 66], [77, 88, 99]]\n"
     ]
    }
   ],
   "source": [
    "# Lists\n",
    "\n",
    "a = [[1,2,3],[4,5,6],[7,8,9]]\n",
    "b = [[10,20,30],[40,50,60],[70,80,90]]\n",
    "\n",
    "result = [] # Result\n",
    "\n",
    "for i in range(3): # Each row\n",
    "    # print(\"a[i] = \", a[i])\n",
    "    # print(\"b[i] = \", b[i])\n",
    "    rrow = []\n",
    "    for j in range(3):\n",
    "        # print(f\"a[{i}][{j}] is {a[i][j]}\") \n",
    "        # print(f\"b[{i}][{j}] is {b[i][j]}\")\n",
    "        rrow.append(a[i][j] + b[i][j])\n",
    "    print(rrow)\n",
    "    result.append(rrow)\n",
    "print(result)"
   ]
  },
  {
   "cell_type": "code",
   "execution_count": null,
   "id": "c94dcd92-09ce-4f37-8f5a-3b9ad3ca2fbf",
   "metadata": {},
   "outputs": [],
   "source": [
    "sales_a = [[11,22,3],[-4,52,56],[87,68,19,90]]\n",
    "sales_b = [[10,20,4],[-10,50,-22],[44,0,0]]\n",
    "# Good day: More profits\n",
    "# Worst day: Less profit/Loss"
   ]
  },
  {
   "cell_type": "code",
   "execution_count": 15,
   "id": "ff2c71c4-e472-43f0-8799-6f0f76e0abb7",
   "metadata": {},
   "outputs": [
    {
     "ename": "ValueError",
     "evalue": "setting an array element with a sequence. The requested array has an inhomogeneous shape after 1 dimensions. The detected shape was (3,) + inhomogeneous part.",
     "output_type": "error",
     "traceback": [
      "\u001b[0;31m---------------------------------------------------------------------------\u001b[0m",
      "\u001b[0;31mValueError\u001b[0m                                Traceback (most recent call last)",
      "Cell \u001b[0;32mIn[15], line 2\u001b[0m\n\u001b[1;32m      1\u001b[0m \u001b[38;5;28;01mimport\u001b[39;00m \u001b[38;5;21;01mnumpy\u001b[39;00m \u001b[38;5;28;01mas\u001b[39;00m \u001b[38;5;21;01mnp\u001b[39;00m\n\u001b[0;32m----> 2\u001b[0m a \u001b[38;5;241m=\u001b[39m np\u001b[38;5;241m.\u001b[39marray([[\u001b[38;5;241m1\u001b[39m, \u001b[38;5;241m2\u001b[39m, \u001b[38;5;241m3\u001b[39m], [\u001b[38;5;241m4\u001b[39m, \u001b[38;5;241m5\u001b[39m, \u001b[38;5;241m6\u001b[39m], [\u001b[38;5;241m7\u001b[39m, \u001b[38;5;241m8\u001b[39m, \u001b[38;5;241m9\u001b[39m,\u001b[38;5;241m10\u001b[39m]])\n\u001b[1;32m      3\u001b[0m b \u001b[38;5;241m=\u001b[39m np\u001b[38;5;241m.\u001b[39marray([[\u001b[38;5;241m10\u001b[39m, \u001b[38;5;241m20\u001b[39m, \u001b[38;5;241m30\u001b[39m], [\u001b[38;5;241m40\u001b[39m, \u001b[38;5;241m50\u001b[39m, \u001b[38;5;241m60\u001b[39m], [\u001b[38;5;241m70\u001b[39m, \u001b[38;5;241m80\u001b[39m, \u001b[38;5;241m90\u001b[39m]])\n\u001b[1;32m      5\u001b[0m \u001b[38;5;28mprint\u001b[39m(a)\n",
      "\u001b[0;31mValueError\u001b[0m: setting an array element with a sequence. The requested array has an inhomogeneous shape after 1 dimensions. The detected shape was (3,) + inhomogeneous part."
     ]
    }
   ],
   "source": [
    "import numpy as np\n",
    "a = np.array([[1, 2, 3], [4, 5, 6], [7, 8, 9]])\n",
    "b = np.array([[10, 20, 30], [40, 50, 60], [70, 80, 90]])\n",
    "\n",
    "print(a)\n",
    "print(b)\n",
    "\n",
    "# Add a and b\n",
    "c = a+b\n",
    "print(c)"
   ]
  },
  {
   "cell_type": "code",
   "execution_count": 30,
   "id": "8f3c9fec-95dd-4248-9205-4d76a0280a0f",
   "metadata": {},
   "outputs": [
    {
     "name": "stdout",
     "output_type": "stream",
     "text": [
      "['a', 'b', 'c', 'd', 'e', 'f', 'g']\n"
     ]
    }
   ],
   "source": [
    "items = [\"a\",\"b\", \"c\", \"d\"]\n",
    "new_items = [\"e\", \"f\", \"g\"]\n",
    "\n",
    "items.apeend(new_items) # using append\n",
    "print(items)\n",
    "\n",
    "new_items.append(\"h\") # [\"e\", \"f\", \"g\", \"h\"]\n",
    "print(items)"
   ]
  },
  {
   "cell_type": "code",
   "execution_count": 31,
   "id": "aee5160f-1b05-4895-8641-7d40e665ccbd",
   "metadata": {},
   "outputs": [
    {
     "name": "stdout",
     "output_type": "stream",
     "text": [
      "['__add__', '__class__', '__class_getitem__', '__contains__', '__delattr__', '__delitem__', '__dir__', '__doc__', '__eq__', '__format__', '__ge__', '__getattribute__', '__getitem__', '__getstate__', '__gt__', '__hash__', '__iadd__', '__imul__', '__init__', '__init_subclass__', '__iter__', '__le__', '__len__', '__lt__', '__mul__', '__ne__', '__new__', '__reduce__', '__reduce_ex__', '__repr__', '__reversed__', '__rmul__', '__setattr__', '__setitem__', '__sizeof__', '__str__', '__subclasshook__', 'append', 'clear', 'copy', 'count', 'extend', 'index', 'insert', 'pop', 'remove', 'reverse', 'sort']\n"
     ]
    }
   ],
   "source": [
    "print(dir(items))"
   ]
  },
  {
   "cell_type": "code",
   "execution_count": 32,
   "id": "0558c3e3-dbd7-457e-a761-475c0c4b244c",
   "metadata": {},
   "outputs": [
    {
     "name": "stdout",
     "output_type": "stream",
     "text": [
      "[]\n",
      "[]\n"
     ]
    }
   ],
   "source": [
    "items.clear()\n",
    "print(items)\n",
    "print(items)"
   ]
  },
  {
   "cell_type": "code",
   "execution_count": 34,
   "id": "7c042433-50de-4242-bb92-759e742e686d",
   "metadata": {},
   "outputs": [
    {
     "data": {
      "text/plain": [
       "0"
      ]
     },
     "execution_count": 34,
     "metadata": {},
     "output_type": "execute_result"
    }
   ],
   "source": [
    "items = [\"a\",\"b\", \"c\", \"d\", \"a\", \"a\", \"b\"]\n",
    "items.count(\"x\")"
   ]
  },
  {
   "cell_type": "code",
   "execution_count": 38,
   "id": "37a498d7-1b37-412c-8932-2696a9055957",
   "metadata": {},
   "outputs": [
    {
     "name": "stdout",
     "output_type": "stream",
     "text": [
      "[0, 1, 2, 3, 4, 5, 6, 7, 8, 9]\n",
      "[0, 3, 6, 9]\n",
      "[3, 6, 9]\n"
     ]
    }
   ],
   "source": [
    "# Sampling\n",
    "data = [0,1,2,3,4,5,6,7,8,9]\n",
    "rate = 3 # In 3 items, pick one\n",
    "#data[start:stop:increment]\n",
    "# Defaul : start : 0, stop: len(data), increment: 1\n",
    "filtered = data[::] # data[0:10:1]: data[0], data[1], data[2].....data[9]\n",
    "print(filtered)\n",
    "\n",
    "filtered = data[::3] # data[0:10:3]: data[0], data[3], data[6], data[9]\n",
    "print(filtered)\n",
    "\n",
    "filtered = data[3::3] # data[3:10:3]: data[3], data[6], data[9]\n",
    "print(filtered)"
   ]
  },
  {
   "cell_type": "code",
   "execution_count": 39,
   "id": "dc8af28d-1181-4054-9d73-2486217e991c",
   "metadata": {},
   "outputs": [
    {
     "name": "stdout",
     "output_type": "stream",
     "text": [
      "[8, 5, 6, 7, 1]\n",
      "[9, 4, 2]\n"
     ]
    }
   ],
   "source": [
    "data = [8,5,6,7,1,3,2,4,9]\n",
    "# List roll numbers : 5 toppers\n",
    "print(data[0:5]) # 0,1,2,3,4\n",
    "# list 3 poor students in order\n",
    "print(data[-1:-4:-1])"
   ]
  },
  {
   "cell_type": "code",
   "execution_count": 43,
   "id": "8dd85191-89fd-4669-b511-ec93637e2996",
   "metadata": {},
   "outputs": [
    {
     "name": "stdout",
     "output_type": "stream",
     "text": [
      "4\n",
      "1\n"
     ]
    }
   ],
   "source": [
    "data = [8,5,6,7,1,3,2,4,9]\n",
    "length = len(data)\n",
    "middle = length//2\n",
    "print(middle)\n",
    "# Print middle element of list\n",
    "print(data[middle])"
   ]
  },
  {
   "cell_type": "code",
   "execution_count": 44,
   "id": "aa5d12c0-d198-4969-a730-9891926fd736",
   "metadata": {},
   "outputs": [
    {
     "data": {
      "text/plain": [
       "False"
      ]
     },
     "execution_count": 44,
     "metadata": {},
     "output_type": "execute_result"
    }
   ],
   "source": [
    "all([True, True, False])"
   ]
  },
  {
   "cell_type": "code",
   "execution_count": 50,
   "id": "ce58aa00-32e6-4453-967e-fd1e10d931f8",
   "metadata": {},
   "outputs": [
    {
     "data": {
      "text/plain": [
       "True"
      ]
     },
     "execution_count": 50,
     "metadata": {},
     "output_type": "execute_result"
    }
   ],
   "source": [
    "any([[False, False], [False,False]])"
   ]
  },
  {
   "cell_type": "code",
   "execution_count": 51,
   "id": "71a3bfa0-2d19-483b-b379-e440905efc50",
   "metadata": {},
   "outputs": [
    {
     "data": {
      "text/plain": [
       "True"
      ]
     },
     "execution_count": 51,
     "metadata": {},
     "output_type": "execute_result"
    }
   ],
   "source": [
    "all([[True, False], [False,False]])\n",
    "# Any element other than 0/False: True"
   ]
  },
  {
   "cell_type": "code",
   "execution_count": 62,
   "id": "733f5f87-5a48-4b95-9a1f-20097f846c47",
   "metadata": {},
   "outputs": [
    {
     "name": "stdout",
     "output_type": "stream",
     "text": [
      "['NAGALAND', 'guntur', 'bangalore', 'ICELAND']\n",
      "True\n"
     ]
    }
   ],
   "source": [
    "names = [\"nagaland\", \"guntur\", \"bangalore\", \"iceland\"]\n",
    "data = [name.upper() if name.endswith(\"land\") else name.lower()  for name in names]\n",
    "print(data)\n",
    "# [OP1 if CONDITION else OP2  for element in elements]\n",
    "# CONDITION ? Op1 : Op2\n",
    "\n",
    "print(all(data))"
   ]
  },
  {
   "cell_type": "code",
   "execution_count": 64,
   "id": "3212437f-cbed-434d-8e49-73b2b8eaac0a",
   "metadata": {},
   "outputs": [
    {
     "name": "stdout",
     "output_type": "stream",
     "text": [
      "True\n"
     ]
    }
   ],
   "source": [
    "seats = [\"a\", \"b\", \"r\", \"c\"]\n",
    "print(all(seats))\n"
   ]
  },
  {
   "cell_type": "code",
   "execution_count": 53,
   "id": "0814402f-c237-460b-b6b1-91b758338e77",
   "metadata": {},
   "outputs": [
    {
     "name": "stdout",
     "output_type": "stream",
     "text": [
      "True\n",
      "False\n"
     ]
    }
   ],
   "source": [
    "s1 = \"nagaland\"\n",
    "print(s1.endswith(\"land\"))"
   ]
  },
  {
   "cell_type": "code",
   "execution_count": 60,
   "id": "a357be6b-306e-4b2d-a29e-40ed8d801c0d",
   "metadata": {},
   "outputs": [
    {
     "name": "stdout",
     "output_type": "stream",
     "text": [
      "[0, 1, 2, 3, 4, 5, 6, 90]\n"
     ]
    }
   ],
   "source": [
    "l1 = [2,3,4,5,1,6,90,0]\n",
    "l1.sort()\n",
    "print(l1)"
   ]
  },
  {
   "cell_type": "code",
   "execution_count": null,
   "id": "5ad0bcc0-34c4-40bd-8527-8cdbf2c56a6e",
   "metadata": {},
   "outputs": [],
   "source": [
    "names = [\"nagaland\", \"gunturland\", \"bangaloreland\", \"iceland\"]\n",
    "for n in names:\n",
    "    print(n)"
   ]
  }
 ],
 "metadata": {
  "kernelspec": {
   "display_name": "Python 3 (ipykernel)",
   "language": "python",
   "name": "python3"
  },
  "language_info": {
   "codemirror_mode": {
    "name": "ipython",
    "version": 3
   },
   "file_extension": ".py",
   "mimetype": "text/x-python",
   "name": "python",
   "nbconvert_exporter": "python",
   "pygments_lexer": "ipython3",
   "version": "3.12.7"
  }
 },
 "nbformat": 4,
 "nbformat_minor": 5
}
