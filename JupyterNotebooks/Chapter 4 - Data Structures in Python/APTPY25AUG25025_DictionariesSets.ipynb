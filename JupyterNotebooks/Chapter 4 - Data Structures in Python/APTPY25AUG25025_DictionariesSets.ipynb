{
 "cells": [
  {
   "cell_type": "code",
   "execution_count": 2,
   "id": "e3786333-3397-4bae-a8b9-a0b8e0221910",
   "metadata": {},
   "outputs": [
    {
     "name": "stdout",
     "output_type": "stream",
     "text": [
      "[1, 2, 3, 3, 3, 3, 3, 3]\n",
      "{1, 2, 3}\n"
     ]
    }
   ],
   "source": [
    "# Sets: \n",
    "l1 = [1,2,3,3,3,3,3,3]\n",
    "print(l1)\n",
    "s1 = {1,2,3,3,3,3,3,3}\n",
    "print(s1) # Sets contains unique elements, no duplicates\n",
    "\n"
   ]
  },
  {
   "cell_type": "code",
   "execution_count": 6,
   "id": "1335849f-2673-4328-9f69-2be1395ea186",
   "metadata": {},
   "outputs": [
    {
     "name": "stdout",
     "output_type": "stream",
     "text": [
      "{'zaheer', 'dravid', 'azhar', 'sachin', 'yuvraj', 'sarav', 'sreeshanth', 'kumble'}\n",
      "{'dravid', 'azhar', 'sarav'}\n",
      "{'sachin', 'yuvraj'}\n"
     ]
    }
   ],
   "source": [
    "batsmen = {\"sachin\", \"dravid\", \"yuvraj\", \"azhar\", \"sarav\"}\n",
    "bowlers = {\"kumble\", \"sreeshanth\", \"zaheer\", \"sachin\", \"yuvraj\"}\n",
    "\n",
    "# List all players\n",
    "team = batsmen | bowlers # union operator\n",
    "print(team)\n",
    "\n",
    "# Print only batsmen\n",
    "print(batsmen - bowlers)\n",
    "\n",
    "# All rounder\n",
    "print(batsmen & bowlers)"
   ]
  },
  {
   "cell_type": "code",
   "execution_count": 11,
   "id": "2479e0cf-5c65-4722-8f7b-2e3f2e711a1f",
   "metadata": {},
   "outputs": [
    {
     "name": "stdout",
     "output_type": "stream",
     "text": [
      "{10, 11, 12, 47, 51, 20}\n",
      "10 1\n",
      "11 1\n",
      "12 1\n",
      "47 6\n",
      "51 1\n",
      "20 5\n"
     ]
    }
   ],
   "source": [
    "pixels = [12,11,10,20,20,20,20,20,51,47,47,47,47,47,47]\n",
    "\n",
    "# Find frequency of each value\n",
    "#1) Get unique numbers\n",
    "uniq_pixels = set(pixels) # Converting list to set\n",
    "print(uniq_pixels)\n",
    "\n",
    "for val in uniq_pixels:\n",
    "    print(val, pixels.count(val))"
   ]
  },
  {
   "cell_type": "code",
   "execution_count": 14,
   "id": "89a2be86-3182-4db9-b5f7-7bd1ef97c88b",
   "metadata": {},
   "outputs": [
    {
     "name": "stdout",
     "output_type": "stream",
     "text": [
      "{'0', 'a', 'f', 't', '2', 'l', 'r', '1', 'o', '-', 'i', ' ', 'd', ';', 'e', 'w', 'b', 'u'}\n"
     ]
    }
   ],
   "source": [
    "msg = \"beautiful ; - --- 001212 wooooooooorld\"\n",
    "s1 = set(msg)\n",
    "print(s1)"
   ]
  },
  {
   "cell_type": "code",
   "execution_count": 16,
   "id": "98490ad7-5e30-4f98-98de-047c03615878",
   "metadata": {},
   "outputs": [
    {
     "name": "stdout",
     "output_type": "stream",
     "text": [
      "All the chars are unique\n"
     ]
    }
   ],
   "source": [
    "w1 = \"helo\"\n",
    "s1 = set(w1)\n",
    "if len(w1) == len(s1):\n",
    "    print(\"All the chars are unique\")"
   ]
  },
  {
   "cell_type": "code",
   "execution_count": 19,
   "id": "83fefa40-a363-4744-9f70-0ced14c31712",
   "metadata": {},
   "outputs": [
    {
     "name": "stdout",
     "output_type": "stream",
     "text": [
      "is great\n"
     ]
    }
   ],
   "source": [
    "sentence = \"hello world... tooday is great day\"\n",
    "\n",
    "max_len = 1\n",
    "index = 0\n",
    "\n",
    "for i in range(len(sentence)):\n",
    "    for j in range(i+1, len(sentence)):\n",
    "        sub_string = sentence[i:j+1] # hell\n",
    "        if len(sub_string) == len(set(sub_string)):\n",
    "            if max_len < j-i+1: # When max_len is less t\n",
    "                max_len = j-i+1 # 2-0+1 = 3\n",
    "                index = i # 0\n",
    "        else:\n",
    "            i = j\n",
    "print(sentence[index:index+max_len])"
   ]
  },
  {
   "cell_type": "code",
   "execution_count": 26,
   "id": "05b3c332-9a4d-4835-8b74-07ce19979644",
   "metadata": {},
   "outputs": [
    {
     "name": "stdin",
     "output_type": "stream",
     "text": [
      "Please enter your fav author!!! Dan Brown\n"
     ]
    },
    {
     "name": "stdout",
     "output_type": "stream",
     "text": [
      "{'Name': 'Lost Symbol', 'Author': 'Dan Brown', 'Published': 2000, 'Category': 'Fiction'}\n"
     ]
    }
   ],
   "source": [
    "# Dictionaries\n",
    "#d1 = {key1:val1, key2:val2}\n",
    "book1 = {\"Name\":\"C Programming\", \"Author\": \"Dennis Ritchie\", \"Published\":1980, \"Category\":\"Tech\"}\n",
    "book2 = {\"Name\":\"Rust Programming\", \"Author\": \"Blandey\", \"Published\":2023, \"Category\":\"Tech\"}\n",
    "book3 = {\"Name\":\"Chandama\", \"Author\": \"Reddy\", \"Published\":1930, \"Category\":\"Stories\"}\n",
    "book4 = {\"Name\":\"Lost Symbol\", \"Author\":\"Dan Brown\", \"Published\":2000, \"Category\":\"Fiction\"}\n",
    "book5 = {\"Name\":\"Unix OS\", \"Author\":\"Dennis Ritchie\", \"Published\":1990, \"Category\":\"Tech\"}\n",
    "\n",
    "library = [book1, book2, book3, book4, book5]\n",
    "\n",
    "author = input(\"Please enter your fav author!!!\")\n",
    "\n",
    "for book in library:\n",
    "    if book[\"Author\"] == author:\n",
    "        print(book)\n",
    "        \n"
   ]
  },
  {
   "cell_type": "code",
   "execution_count": 25,
   "id": "69852970-8738-41bf-9f06-a80e8adbb0b1",
   "metadata": {},
   "outputs": [
    {
     "name": "stdin",
     "output_type": "stream",
     "text": [
      "Please enter year!!! 2000\n"
     ]
    },
    {
     "name": "stdout",
     "output_type": "stream",
     "text": [
      "{'Name': 'Rust Programming', 'Author': 'Blandey', 'Published': 2023, 'Category': 'Tech'}\n",
      "{'Name': 'Lost Symbol', 'Author': 'Dan Brown', 'Published': 2000, 'Category': 'Fiction'}\n"
     ]
    }
   ],
   "source": [
    "# Dictionaries\n",
    "#d1 = {key1:val1, key2:val2}\n",
    "book1 = {\"Name\":\"C Programming\", \"Author\": \"Dennis Ritchie\", \"Published\":1980, \"Category\":\"Tech\"}\n",
    "book2 = {\"Name\":\"Rust Programming\", \"Author\": \"Blandey\", \"Published\":2023, \"Category\":\"Tech\"}\n",
    "book3 = {\"Name\":\"Chandama\", \"Author\": \"Reddy\", \"Published\":1930, \"Category\":\"Stories\"}\n",
    "book4 = {\"Name\":\"Lost Symbol\", \"Author\":\"Dan Brown\", \"Published\":2000, \"Category\":\"Fiction\"}\n",
    "book5 = {\"Name\":\"Unix OS\", \"Author\":\"Dennis Ritchie\", \"Published\":1990, \"Category\":\"Tech\"}\n",
    "\n",
    "library = [book1, book2, book3, book4, book5]\n",
    "\n",
    "year = int(input(\"Please enter year!!!\")) # 2000 , ....2025\n",
    "\n",
    "for book in library:\n",
    "    if book[\"Published\"] >= year:\n",
    "        print(book)\n",
    "        "
   ]
  },
  {
   "cell_type": "code",
   "execution_count": 27,
   "id": "cf920c3f-1074-49cf-ae15-30382ab0ec6b",
   "metadata": {},
   "outputs": [
    {
     "ename": "TypeError",
     "evalue": "'str' object does not support item assignment",
     "output_type": "error",
     "traceback": [
      "\u001b[31m---------------------------------------------------------------------------\u001b[39m",
      "\u001b[31mTypeError\u001b[39m                                 Traceback (most recent call last)",
      "\u001b[36mCell\u001b[39m\u001b[36m \u001b[39m\u001b[32mIn[27]\u001b[39m\u001b[32m, line 2\u001b[39m\n\u001b[32m      1\u001b[39m s1 = \u001b[33m\"\u001b[39m\u001b[33mhello\u001b[39m\u001b[33m\"\u001b[39m\n\u001b[32m----> \u001b[39m\u001b[32m2\u001b[39m \u001b[43ms1\u001b[49m\u001b[43m[\u001b[49m\u001b[32;43m0\u001b[39;49m\u001b[43m]\u001b[49m = \u001b[33m\"\u001b[39m\u001b[33mH\u001b[39m\u001b[33m\"\u001b[39m \u001b[38;5;66;03m#? \u001b[39;00m\n\u001b[32m      3\u001b[39m \u001b[38;5;28mprint\u001b[39m(s1)\n",
      "\u001b[31mTypeError\u001b[39m: 'str' object does not support item assignment"
     ]
    }
   ],
   "source": [
    "s1 = \"hello\" # Immutable\n",
    "s1[0] = \"H\" #? No\n",
    "print(s1)"
   ]
  },
  {
   "cell_type": "code",
   "execution_count": 28,
   "id": "21a0a63b-0487-432d-998c-e48ae4885a20",
   "metadata": {},
   "outputs": [
    {
     "name": "stdout",
     "output_type": "stream",
     "text": [
      "[100, 2, 3, 4]\n"
     ]
    }
   ],
   "source": [
    "l1 = [1,2,3,4] # List is mutable\n",
    "l1[0] = 100\n",
    "print(l1)\n"
   ]
  },
  {
   "cell_type": "code",
   "execution_count": 32,
   "id": "040b6924-4eab-496c-8af2-9e04fb4e62e5",
   "metadata": {},
   "outputs": [
    {
     "name": "stdout",
     "output_type": "stream",
     "text": [
      "Having contol over something\n",
      "{'capture': 'Having contol over something', 'hell': 'a place where you are fried in oven, it is result of your actions', 'cell': 'it is portable telephone and wireless', 'current': 'Flow of electrons'}\n",
      "{'capture': 'Having contol over something', 'hell': 'a place where you are fried in oven, it is result of your actions', 'cell': 'a micro organ in body', 'current': 'Flow of electrons'}\n",
      "capture : Having contol over something\n",
      "hell : a place where you are fried in oven, it is result of your actions\n",
      "cell : a micro organ in body\n",
      "current : Flow of electrons\n"
     ]
    }
   ],
   "source": [
    "oxford = {\"capture\":\"Having contol over something\", \"hell\":\"a place where you are fried in oven, it is result of your actions\"}\n",
    "print(oxford[\"capture\"])\n",
    "new_words = {\"cell\":\"it is portable telephone and wireless\", \"current\":\"Flow of electrons\"}\n",
    "oxford.update(new_words) # append, extend\n",
    "print(oxford)\n",
    "\n",
    "# Currecting value against key\n",
    "oxford[\"cell\"] = \"a micro organ in body\"\n",
    "print(oxford)\n",
    "\n",
    "for word, meaning in oxford.items():\n",
    "    print(word, \":\" , meaning)"
   ]
  },
  {
   "cell_type": "code",
   "execution_count": null,
   "id": "79ce33e3-4bc8-4e6c-9fa6-4a5ddf0d6951",
   "metadata": {},
   "outputs": [],
   "source": []
  }
 ],
 "metadata": {
  "kernelspec": {
   "display_name": "Python3 (DeepCode)",
   "language": "python",
   "name": "deepcode"
  },
  "language_info": {
   "codemirror_mode": {
    "name": "ipython",
    "version": 3
   },
   "file_extension": ".py",
   "mimetype": "text/x-python",
   "name": "python",
   "nbconvert_exporter": "python",
   "pygments_lexer": "ipython3",
   "version": "3.13.5"
  }
 },
 "nbformat": 4,
 "nbformat_minor": 5
}
