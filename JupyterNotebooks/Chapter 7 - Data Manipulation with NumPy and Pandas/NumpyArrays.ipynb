{
 "cells": [
  {
   "cell_type": "code",
   "execution_count": 1,
   "id": "559615b4-cf09-4072-9ae9-2a1ba90794d0",
   "metadata": {},
   "outputs": [
    {
     "name": "stdout",
     "output_type": "stream",
     "text": [
      "[11, 22, 33, 44]\n"
     ]
    }
   ],
   "source": [
    "import numpy as np\n",
    "l1 = [1,2,3,4]\n",
    "l2 = [10,20,30,40]\n",
    "l3= []\n",
    "for i in range(len(l1)):\n",
    "    l3.append(l1[i]+l2[i])\n",
    "\n",
    "print(l3)"
   ]
  },
  {
   "cell_type": "code",
   "execution_count": 2,
   "id": "8366d7b0-0c8d-4bbd-898d-ed3b392bab79",
   "metadata": {},
   "outputs": [
    {
     "name": "stdout",
     "output_type": "stream",
     "text": [
      "[11 22 33 44]\n"
     ]
    }
   ],
   "source": [
    "import numpy as np\n",
    "l1 = [1,2,3,4]\n",
    "l2 = [10,20,30,40]\n",
    "\n",
    "a1 = np.array(l1)#np array is taking the values from python, internally it stores in a array[]\n",
    "a2 = np.array(l2)\n",
    "a3 = a1+a2\n",
    "\n",
    "print(a3)"
   ]
  },
  {
   "cell_type": "code",
   "execution_count": null,
   "id": "a1091878-7995-48dd-89c0-1e0920649344",
   "metadata": {},
   "outputs": [
    {
     "name": "stdout",
     "output_type": "stream",
     "text": [
      "Size of l1 {} 800000056\n"
     ]
    }
   ],
   "source": [
    "import time\n",
    "import numpy as np\n",
    "num = 10_0000_000\n",
    "count = num\n",
    "l1=list(range(count))\n",
    "l2=list(range(count))\n",
    "\n",
    "import sys\n",
    "print(\"Size of l1 {}\", sys.getsizeof(l1))\n",
    "\n",
    "start=time.time()\n",
    "list3 = [l1[i]+l2[i] for i in range(num)]\n",
    "end=time.time()\n",
    "elapsed = 1000*(end-start)\n",
    "print(\"List time:\",elapsed)"
   ]
  },
  {
   "cell_type": "code",
   "execution_count": 4,
   "id": "7f0bca8a-5f3f-4047-9dd9-182d8d191dbf",
   "metadata": {},
   "outputs": [
    {
     "name": "stdout",
     "output_type": "stream",
     "text": [
      "Time took to add two np arrays!!! = {} 0.9848310947418213\n"
     ]
    }
   ],
   "source": [
    "import time\n",
    "import numpy as np\n",
    "num = 10_0000_000\n",
    "count = num\n",
    "\n",
    "start = time.time()\n",
    "a1 = np.arange(num)\n",
    "a2 = np.arange(num)\n",
    "a3 = a1+a2\n",
    "end = time.time()\n",
    "print(\"Time took to add two np arrays!!! = {}\", end-start)\n"
   ]
  },
  {
   "cell_type": "code",
   "execution_count": 5,
   "id": "1e7e21d8-da86-4824-9e31-d0e54fa51438",
   "metadata": {},
   "outputs": [
    {
     "name": "stdout",
     "output_type": "stream",
     "text": [
      "(100000000,)\n"
     ]
    }
   ],
   "source": [
    "print(a1.shape)"
   ]
  },
  {
   "cell_type": "code",
   "execution_count": 9,
   "id": "544a517e-e401-47e2-b68c-6fd17ad40192",
   "metadata": {},
   "outputs": [
    {
     "name": "stdout",
     "output_type": "stream",
     "text": [
      "0.0\n",
      "0.5\n",
      "1.0\n",
      "1.5\n",
      "2.0\n",
      "2.5\n",
      "3.0\n",
      "3.5\n",
      "4.0\n",
      "4.5\n",
      "5.0\n",
      "5.5\n",
      "6.0\n",
      "6.5\n",
      "7.0\n",
      "7.5\n",
      "8.0\n",
      "8.5\n",
      "9.0\n"
     ]
    }
   ],
   "source": [
    "import numpy as np\n",
    "a1 = np.linspace(0,9,19)# 1, 1.5,2,2.5\n",
    "for i in a1:\n",
    "    print(i)\n"
   ]
  },
  {
   "cell_type": "code",
   "execution_count": 1,
   "id": "0b60359a-0512-4844-a3a6-62faa3e7616b",
   "metadata": {},
   "outputs": [
    {
     "name": "stdout",
     "output_type": "stream",
     "text": [
      "Size of l1 {} 8000056\n",
      "Size of a1 {} 4000000\n"
     ]
    }
   ],
   "source": [
    "import time\n",
    "import numpy as np\n",
    "num = 1000_000\n",
    "count = num\n",
    "l1=list(range(count)) # 64bits for number \n",
    "import sys\n",
    "print(\"Size of l1 {}\", sys.getsizeof(l1))\n",
    "\n",
    "a1 = np.arange(count,dtype=\"int32\") # Enforcing to 32-bit\n",
    "print(\"Size of a1 {}\", a1.nbytes)"
   ]
  },
  {
   "cell_type": "code",
   "execution_count": 10,
   "id": "95765d84-751f-474a-92a7-745b636869e4",
   "metadata": {},
   "outputs": [
    {
     "name": "stdout",
     "output_type": "stream",
     "text": [
      "False\n",
      "True\n",
      "any = {} True\n",
      "[[1 2]\n",
      " [4 0]]\n"
     ]
    }
   ],
   "source": [
    "import numpy as np\n",
    "a = np.zeros(100)\n",
    "print(a.all())\n",
    "b = np.ones(100)\n",
    "print(b.all()) # None of the elment is 0, all are greater than or equal to 1\n",
    "\n",
    "c = np.array([1,2,4,0]) # 1x4\n",
    "print(\"any = {}\", c.any())\n",
    "d = c.reshape((2,2))\n",
    "print(d)\n"
   ]
  },
  {
   "cell_type": "code",
   "execution_count": 15,
   "id": "a0e43a31-6e65-4cc3-a5e9-702b6a8a40e0",
   "metadata": {},
   "outputs": [
    {
     "name": "stdout",
     "output_type": "stream",
     "text": [
      "float64\n"
     ]
    },
    {
     "data": {
      "text/plain": [
       "array([3. , 4. , 6. , 7.5])"
      ]
     },
     "execution_count": 15,
     "metadata": {},
     "output_type": "execute_result"
    }
   ],
   "source": [
    "c = np.array([1,2,4,5.5]) # 1x4\n",
    "print(c.dtype)\n",
    "c+2"
   ]
  },
  {
   "cell_type": "code",
   "execution_count": 14,
   "id": "70a9c7fe-d5af-49ce-b21f-12d8a8771551",
   "metadata": {},
   "outputs": [
    {
     "name": "stdout",
     "output_type": "stream",
     "text": [
      "int64\n"
     ]
    },
    {
     "data": {
      "text/plain": [
       "array([3, 4, 6])"
      ]
     },
     "execution_count": 14,
     "metadata": {},
     "output_type": "execute_result"
    }
   ],
   "source": [
    "c = np.array([1,2,4]) # 1x4\n",
    "print(c.dtype)\n",
    "c+2"
   ]
  },
  {
   "cell_type": "code",
   "execution_count": 16,
   "id": "abcc8632-7603-4448-a836-9a34bb4e9dab",
   "metadata": {},
   "outputs": [
    {
     "name": "stdout",
     "output_type": "stream",
     "text": [
      "[0, 2, 4, 6, 8]\n"
     ]
    }
   ],
   "source": [
    "l1 = [0,1,2,3,4,5,6,7,8,9]\n",
    "print(l1[::2]) # start:stop:increment "
   ]
  },
  {
   "cell_type": "code",
   "execution_count": 19,
   "id": "f294fc5b-1dc8-4d4c-9055-8a91a69bad8e",
   "metadata": {},
   "outputs": [
    {
     "name": "stdout",
     "output_type": "stream",
     "text": [
      "[[ 0  1  2  3  4  5  6  7  8  9]\n",
      " [10 11 12 13 14 15 16 17 18 19]\n",
      " [20 21 22 23 24 25 26 27 28 29]\n",
      " [30 31 32 33 34 35 36 37 38 39]\n",
      " [40 41 42 43 44 45 46 47 48 49]\n",
      " [50 51 52 53 54 55 56 57 58 59]\n",
      " [60 61 62 63 64 65 66 67 68 69]\n",
      " [70 71 72 73 74 75 76 77 78 79]\n",
      " [80 81 82 83 84 85 86 87 88 89]\n",
      " [90 91 92 93 94 95 96 97 98 99]]\n",
      "[[ 0  2  4  6  8]\n",
      " [20 22 24 26 28]\n",
      " [40 42 44 46 48]\n",
      " [60 62 64 66 68]\n",
      " [80 82 84 86 88]]\n"
     ]
    }
   ],
   "source": [
    "a1 = np.arange(100)\n",
    "a2 = a1.reshape((10,10))\n",
    "print(a2)\n",
    "print(a2[::2,::2])"
   ]
  },
  {
   "cell_type": "code",
   "execution_count": null,
   "id": "355f82b0-0c1a-426c-9fb7-15f0e75456f1",
   "metadata": {},
   "outputs": [],
   "source": []
  }
 ],
 "metadata": {
  "kernelspec": {
   "display_name": "Python3 (DeepCode)",
   "language": "python",
   "name": "deepcode"
  },
  "language_info": {
   "codemirror_mode": {
    "name": "ipython",
    "version": 3
   },
   "file_extension": ".py",
   "mimetype": "text/x-python",
   "name": "python",
   "nbconvert_exporter": "python",
   "pygments_lexer": "ipython3",
   "version": "3.13.5"
  }
 },
 "nbformat": 4,
 "nbformat_minor": 5
}
