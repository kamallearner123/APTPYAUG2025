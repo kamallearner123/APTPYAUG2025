{
 "cells": [
  {
   "cell_type": "markdown",
   "id": "758e9e77",
   "metadata": {},
   "source": [
    "# Practice: Data Manipulation with NumPy and Pandas\n",
    "Work with arrays and DataFrames. Practice data cleaning, transformation, and analysis using NumPy and Pandas."
   ]
  }
 ],
 "metadata": {
  "language_info": {
   "name": "python"
  }
 },
 "nbformat": 4,
 "nbformat_minor": 5
}
