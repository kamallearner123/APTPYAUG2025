{
 "cells": [
  {
   "cell_type": "code",
   "execution_count": 24,
   "id": "089fa21e-3ae5-4d78-bf07-4e365310570a",
   "metadata": {},
   "outputs": [
    {
     "data": {
      "text/plain": [
       "38273    5613827\n",
       "38072    5595203\n",
       "37861    5530568\n",
       "37655    5486349\n",
       "37453    5439015\n",
       "          ...   \n",
       "4523        1002\n",
       "14042       1002\n",
       "19255       1002\n",
       "14463       1001\n",
       "3306        1001\n",
       "Name: likes, Length: 37088, dtype: int64"
      ]
     },
     "execution_count": 24,
     "metadata": {},
     "output_type": "execute_result"
    }
   ],
   "source": [
    "import pandas as pd\n",
    "df = pd.read_csv(\"../data/Youtube/USvideos.csv\")\n",
    "df.dropna()\n",
    "df2 = df.loc[df['likes']>1000]\n",
    "df2['likes'].sort_values(ascending\n",
    "                =False)"
   ]
  },
  {
   "cell_type": "code",
   "execution_count": 10,
   "id": "c8fd553a-1f4d-41b1-ab34-a00cf82e958f",
   "metadata": {},
   "outputs": [
    {
     "name": "stdout",
     "output_type": "stream",
     "text": [
      "0             CaseyNeistat\n",
      "1          LastWeekTonight\n",
      "2             Rudy Mancuso\n",
      "3    Good Mythical Morning\n",
      "4                 nigahiga\n",
      "5                 iJustine\n",
      "6      Saturday Night Live\n",
      "7       CrazyRussianHacker\n",
      "8         20th Century Fox\n",
      "9                      Vox\n",
      "Name: channel_title, dtype: object\n"
     ]
    }
   ],
   "source": [
    "df['rate'] = df['likes']*10+df['views']\n",
    "df.sort_values('rate')\n",
    "print(df[:10][\"channel_title\"])"
   ]
  },
  {
   "cell_type": "code",
   "execution_count": 27,
   "id": "c0b93dfa-5ecb-42cd-a8e8-0e96da0d697b",
   "metadata": {},
   "outputs": [
    {
     "name": "stdout",
     "output_type": "stream",
     "text": [
      "      video_id                                              title   likes  \\\n",
      "0  2kyS6SvSYSE                 WE WANT TO TALK ABOUT OUR MARRIAGE   57527   \n",
      "1  1ZAPwfrtAFY  The Trump Presidency: Last Week Tonight with J...   97185   \n",
      "2  5qpjK5DgCt4  Racist Superman | Rudy Mancuso, King Bach & Le...  146033   \n",
      "3  puqaWrEC7tY                   Nickelback Lyrics: Real or Fake?   10172   \n",
      "4  d380meD0W0M                           I Dare You: GOING BALD!?  132235   \n",
      "\n",
      "     views  \n",
      "0   748374  \n",
      "1  2418783  \n",
      "2  3191434  \n",
      "3   343168  \n",
      "4  2095731  \n"
     ]
    }
   ],
   "source": [
    "import pandas as pd\n",
    "df = pd.read_csv(\"../data/Youtube/USvideos.csv\")\n",
    "df = df.dropna()  # From your corrected code\n",
    "# Filter videos with likes > 1000\n",
    "high_likes = df.loc[df['likes'] > 1000, ['video_id', 'title', 'likes', 'views']]\n",
    "print(high_likes.head())"
   ]
  },
  {
   "cell_type": "code",
   "execution_count": null,
   "id": "e7c98acb-0765-47e9-82f6-38577cf8a09a",
   "metadata": {},
   "outputs": [],
   "source": []
  }
 ],
 "metadata": {
  "kernelspec": {
   "display_name": "Python 3 (ipykernel)",
   "language": "python",
   "name": "python3"
  },
  "language_info": {
   "codemirror_mode": {
    "name": "ipython",
    "version": 3
   },
   "file_extension": ".py",
   "mimetype": "text/x-python",
   "name": "python",
   "nbconvert_exporter": "python",
   "pygments_lexer": "ipython3",
   "version": "3.12.7"
  }
 },
 "nbformat": 4,
 "nbformat_minor": 5
}
