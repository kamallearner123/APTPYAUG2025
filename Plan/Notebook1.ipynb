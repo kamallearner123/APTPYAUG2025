  },
  {
   "cell_type": "markdown",
   "metadata": {},
   "source": [
    "## 5️⃣ Clustering – KMeans & DBSCAN"
   ]
  },
  {
   "cell_type": "code",
   "execution_count": null,
   "metadata": {},
   "outputs": [],
   "source": [
    "from sklearn.datasets import make_blobs, make_moons, load_iris\n",
    "from sklearn.cluster import KMeans, DBSCAN\n",
    "from sklearn.metrics import silhouette_score\n",
    "\n",
    "# Blobs dataset for KMeans\n",
    "X_blobs, _ = make_blobs(n_samples=800, centers=4, cluster_std=1.2, random_state=42)\n",
    "scores = []\n",
    "for k in range(2, 10):\n",
    "    km = KMeans(n_clusters=k, n_init='auto', random_state=42)\n",
    "    labels = km.fit_predict(X_blobs)\n",
    "    scores.append(silhouette_score(X_blobs, labels))\n",
    "plt.plot(range(2, 10), scores, marker='o')\n",
    "plt.title('Silhouette vs K (Blobs)')\n",
    "plt.show()\n",
    "\n",
    "# Moons dataset for DBSCAN\n",
    "X_moons, _ = make_moons(n_samples=800, noise=0.07, random_state=42)\n",
    "X_moons = StandardScaler().fit_transform(X_moons)\n",
    "db = DBSCAN(eps=0.2, min_samples=8).fit(X_moons)\n",
    "labels = db.labels_\n",
    "sns.scatterplot(x=X_moons[:,0], y=X_moons[:,1], hue=labels, palette='tab10', s=20)\n",
    "plt.title('DBSCAN Clusters (Moons)')\n",
    "plt.show()\n",
    "\n",
    "# Iris dataset with KMeans\n",
    "iris = load_iris(as_frame=True)\n",
    "X = iris.data.values\n",
    "km = KMeans(n_clusters=3, n_init='auto', random_state=42)\n",
    "labels = km.fit_predict(X)\n",
    "print('Silhouette (Iris):', silhouette_score(X, labels))"
   ]
  },
  {
   "cell_type": "markdown",
   "metadata": {},
   "source": [
    "## 6️⃣ Dimensionality Reduction – PCA & t-SNE"
   ]
  },
  {
   "cell_type": "code",
   "execution_count": null,
   "metadata": {},
   "outputs": [],
   "source": [
    "from sklearn.datasets import load_digits\n",
    "from sklearn.decomposition import PCA\n",
    "from sklearn.manifold import TSNE\n",
    "from sklearn.linear_model import LogisticRegression\n",
    "\n",
    "digits = load_digits()\n",
    "X, y = digits.data, digits.target\n",
    "\n",
    "# PCA explained variance\n",
    "pca = PCA().fit(X)\n",
    "cumvar = np.cumsum(pca.explained_variance_ratio_)\n",
    "plt.plot(cumvar)\n",
    "plt.axhline(0.95, color='red', linestyle='--')\n",
    "plt.title('Cumulative Explained Variance')\n",
    "plt.xlabel('Components')\n",
    "plt.ylabel('Cumulative Variance')\n",
    "plt.show()\n",
    "\n",
    "k95 = np.searchsorted(cumvar, 0.95) + 1\n",
    "print('Components for 95% variance:', k95)\n",
    "\n",
    "# PCA + Logistic Regression\n",
    "pipe_pca = Pipeline([\n",
    "    ('scaler', StandardScaler()),\n",
    "    ('pca', PCA(n_components=k95, random_state=42)),\n",
    "    ('clf', LogisticRegression(max_iter=1000))\n",
    "])\n",
    "X_train, X_test, y_train, y_test = train_test_split(X, y, stratify=y, test_size=0.2, random_state=42)\n",
    "pipe_pca.fit(X_train, y_train)\n",
    "print('Accuracy with PCA:', pipe_pca.score(X_test, y_test))\n",
    "\n",
    "# t-SNE visualization\n",
    "X_emb = TSNE(n_components=2, random_state=42, init='pca', learning_rate='auto').fit_transform(X)\n",
    "sns.scatterplot(x=X_emb[:,0], y=X_emb[:,1], hue=y, palette='tab10', s=10, legend=False)\n",
    "plt.title('t-SNE Visualization (Digits)')\n",
    "plt.show()"
   ]
  }
 ],
 "metadata": {
  "kernelspec": {
   "display_name": "Python 3",
   "language": "python",
   "name": "python3"
  },
  "language_info": {
   "name": "python",
   "version": "3.x"
  }
 },
 "nbformat": 4,
 "nbformat_minor": 5
}

